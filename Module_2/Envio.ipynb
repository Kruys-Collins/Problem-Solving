{
 "cells": [
  {
   "cell_type": "markdown",
   "id": "7ac50d40",
   "metadata": {},
   "source": [
    "### Envio Indexer"
   ]
  },
  {
   "cell_type": "markdown",
   "id": "a1cdd850",
   "metadata": {},
   "source": [
    "what you need for this class - vscode, github, docker  \n",
    "what is envio_indexer  \n",
    "\n",
    "- necessary links  \n",
    "example https://docs.envio.dev/blog/how-to-build-visualizers-and-dashboards-on-monad-using-envio  \n",
    "docs https://docs.envio.dev/  \n",
    "\n",
    "envio_indexer types hyperindex, hypersync\n"
   ]
  },
  {
   "cell_type": "markdown",
   "id": "bb6fda71",
   "metadata": {},
   "source": [
    "### what is blockchain indexing"
   ]
  },
  {
   "cell_type": "markdown",
   "id": "01690663",
   "metadata": {},
   "source": [
    "Blockchain indexing is the process of extracting, organizing, and storing blockchain data in a structured way so it can be queried quickly.\n",
    "\n",
    "It’s needed because blockchains store data sequentially and aren’t optimized for complex searches—without an indexer, finding specific transactions or events requires scanning the entire chain, which is slow and inefficient. An indexer lets you query data instantly for analytics, apps, and dashboards.\n",
    "\n",
    "### Envio Indexer\n",
    "\n",
    "Real-time data indexing: captures and updates blockchain events instantly.\n",
    "\n",
    "Multi-chain support: works across different blockchains without major changes.\n",
    "\n",
    "Developer-friendly setup: simple CLI, clear schema definitions, and built-in GraphQL API for fast queries.\n",
    "\n",
    "### Core Concepts\n",
    "What is an indexer\n",
    "An indexer is a tool that listens to blockchain events, processes them, and stores the data in a structured database for fast and flexible querying.\n",
    "\n",
    "#### Difference:\n",
    "\n",
    "Querying a blockchain node – retrieves raw data directly from the chain; slow for complex searches because you must scan block-by-block.\n",
    "\n",
    "Using indexed data – retrieves pre-processed, organized data from a database; much faster and optimized for specific queries.\n",
    "\n",
    "### How envio works under the hood\n",
    "Data sources: Envio listens to blockchain events, transactions, and logs, capturing them as they happen.\n",
    "\n",
    "It processes this data using mappings (custom code to shape the data).\n",
    "\n",
    "Indexed data is stored in a database according to your GraphQL schema.\n",
    "\n",
    "GraphQL API: Envio automatically generates a GraphQL endpoint so you can query the indexed data quickly and flexibly.\n",
    "\n",
    "Example use cases\n",
    "\n",
    "dashboards & analytics\n",
    "\n",
    "NFT marketplaces\n",
    "\n",
    "DeFi tracking tools"
   ]
  },
  {
   "cell_type": "code",
   "execution_count": null,
   "id": "634d31f8",
   "metadata": {},
   "outputs": [],
   "source": []
  }
 ],
 "metadata": {
  "language_info": {
   "name": "python"
  }
 },
 "nbformat": 4,
 "nbformat_minor": 5
}
