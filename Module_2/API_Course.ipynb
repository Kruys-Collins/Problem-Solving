{
 "cells": [
  {
   "cell_type": "code",
   "execution_count": null,
   "id": "a4b24fda",
   "metadata": {},
   "outputs": [
    {
     "ename": "",
     "evalue": "",
     "output_type": "error",
     "traceback": [
      "\u001b[1;31mFailed to start the Kernel. \n",
      "\u001b[1;31mUnable to start Kernel 'Problem-Solver (Python 3.13.5)' due to a timeout waiting for the ports to get used. \n",
      "\u001b[1;31mView Jupyter <a href='command:jupyter.viewOutput'>log</a> for further details."
     ]
    }
   ],
   "source": []
  },
  {
   "cell_type": "code",
   "execution_count": null,
   "id": "25ccc056",
   "metadata": {},
   "outputs": [
    {
     "ename": "",
     "evalue": "",
     "output_type": "error",
     "traceback": [
      "\u001b[1;31mFailed to start the Kernel. \n",
      "\u001b[1;31mUnable to start Kernel 'Problem-Solver (Python 3.13.5)' due to a timeout waiting for the ports to get used. \n",
      "\u001b[1;31mView Jupyter <a href='command:jupyter.viewOutput'>log</a> for further details."
     ]
    }
   ],
   "source": [
    "import requests # Importing the requests library for making HTTP requests\n",
    "import pandas as pd # Importing pandas for data manipulation and analysis\n",
    "import json # Importing json for handling JSON data\n",
    "import os # Importing os for operating system dependent functionality\n",
    "from dotenv import load_dotenv # Importing load_dotenv to load environment variables from a .env file\n"
   ]
  }
 ],
 "metadata": {
  "kernelspec": {
   "display_name": "Problem-Solver",
   "language": "python",
   "name": "python3"
  },
  "language_info": {
   "name": "python",
   "version": "3.13.5"
  }
 },
 "nbformat": 4,
 "nbformat_minor": 5
}
