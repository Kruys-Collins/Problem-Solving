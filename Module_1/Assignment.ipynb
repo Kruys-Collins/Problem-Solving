{
 "cells": [
  {
   "cell_type": "markdown",
   "id": "a359a9d4",
   "metadata": {},
   "source": [
    "# Python problems on Datastructure\n"
   ]
  },
  {
   "cell_type": "markdown",
   "id": "4df45ffb",
   "metadata": {},
   "source": [
    " ## Problem 1: Cryptocurrency Token Data\n",
    "This data structure represents information about different cryptocurrency tokens listed on a decentralized exchange (DEX)."
   ]
  },
  {
   "cell_type": "code",
   "execution_count": 36,
   "id": "7d40fe00",
   "metadata": {},
   "outputs": [],
   "source": [
    "crypto_tokens = [\n",
    "    {\n",
    "        \"name\": \"Token A\",\n",
    "        \"symbol\": \"TKA\",\n",
    "        \"blockchain\": \"Ethereum\",\n",
    "        \"current_price_usd\": 100.0,\n",
    "        \"transaction_history\": [\n",
    "            {\n",
    "                \"date\": \"2024-01-10\",\n",
    "                \"prices\": {\n",
    "                    \"open\": 98.0,\n",
    "                    \"close\": 100.0,\n",
    "                    \"high\": 101.0,\n",
    "                    \"low\": 97.0\n",
    "                },\n",
    "                \"volume\": 12000\n",
    "            },\n",
    "            {\n",
    "                \"date\": \"2024-01-09\",\n",
    "                \"prices\": {\n",
    "                    \"open\": 97.0,\n",
    "                    \"close\": 98.0,\n",
    "                    \"high\": 99.0,\n",
    "                    \"low\": 96.0\n",
    "                },\n",
    "                \"volume\": 15000\n",
    "            }\n",
    "        ],\n",
    "        \"supported_chains\": [\"Ethereum\", \"Polygon\"]\n",
    "    },\n",
    "    {\n",
    "        \"name\": \"Token B\",\n",
    "        \"symbol\": \"TKB\",\n",
    "        \"blockchain\": \"Binance Smart Chain\",\n",
    "        \"current_price_usd\": 200.0,\n",
    "        \"transaction_history\": [\n",
    "            {\n",
    "                \"date\": \"2024-01-10\",\n",
    "                \"prices\": {\n",
    "                    \"open\": 198.0,\n",
    "                    \"close\": 200.0,\n",
    "                    \"high\": 202.0,\n",
    "                    \"low\": 196.0\n",
    "                },\n",
    "                \"volume\": 18000\n",
    "            },\n",
    "            {\n",
    "                \"date\": \"2024-01-09\",\n",
    "                \"prices\": {\n",
    "                    \"open\": 196.0,\n",
    "                    \"close\": 198.0,\n",
    "                    \"high\": 199.0,\n",
    "                    \"low\": 195.0\n",
    "                },\n",
    "                \"volume\": 17000\n",
    "            }\n",
    "        ],\n",
    "        \"supported_chains\": [\"Binance Smart Chain\", \"Avalanche\"]\n",
    "    },\n",
    "    {\n",
    "        \"name\": \"Token C\",\n",
    "        \"symbol\": \"TKC\",\n",
    "        \"blockchain\": \"Solana\",\n",
    "        \"current_price_usd\": 300.0,\n",
    "        \"transaction_history\": [\n",
    "            {\n",
    "                \"date\": \"2024-01-10\",\n",
    "                \"prices\": {\n",
    "                    \"open\": 295.0,\n",
    "                    \"close\": 300.0,\n",
    "                    \"high\": 302.0,\n",
    "                    \"low\": 294.0\n",
    "                },\n",
    "                \"volume\": 22000\n",
    "            },\n",
    "            {\n",
    "                \"date\": \"2024-01-09\",\n",
    "                \"prices\": {\n",
    "                    \"open\": 294.0,\n",
    "                    \"close\": 295.0,\n",
    "                    \"high\": 296.0,\n",
    "                    \"low\": 293.0\n",
    "                },\n",
    "                \"volume\": 21000\n",
    "            }\n",
    "        ],\n",
    "        \"supported_chains\": [\"Solana\", \"Fantom\"]\n",
    "    }\n",
    "]"
   ]
  },
  {
   "cell_type": "markdown",
   "id": "dd54aeee",
   "metadata": {},
   "source": [
    "```python\n",
    "Q1: Read Data\n",
    "Task: Display the current price of \"Token B\".\n",
    "Q2: Write Data  \n",
    "Task: Add a new token \"Token D\" with some initial data to the `crypto_tokens` list.\n",
    "\n",
    "Q3: Update Data  \n",
    "Task: Update the current price of \"Token C\" to 310.0.\n",
    "\n",
    "Q4: Delete Data  \n",
    "Task: Remove the transaction history for \"Token A\" on \"2024-01-09\".\n",
    "\n",
    "Q5: Read Nested Data  \n",
    "Task: Display the closing price of \"Token B\" on \"2024-01-10\".\n",
    "\n",
    "Q6: Update Nested Data  \n",
    "Task: Change the opening price of \"Token A\" on \"2024-01-10\" to 99.0.\n",
    "\n",
    "Q7: Add Nested Data  \n",
    "Task: Add a new transaction history entry for \"Token C\" on \"2024-01-11\".\n",
    "\n",
    "Q8: Delete an Item from a List Inside a Dictionary  \n",
    "Task: Remove \"Avalanche\" from the supported chains of \"Token B\"."
   ]
  },
  {
   "cell_type": "markdown",
   "id": "4e3c7e0c",
   "metadata": {},
   "source": [
    "## Solution"
   ]
  },
  {
   "cell_type": "markdown",
   "id": "dcd00206",
   "metadata": {},
   "source": [
    "### Q1: Read Data  \n",
    "Task: Display the current price of \"Token B\"."
   ]
  },
  {
   "cell_type": "code",
   "execution_count": 37,
   "id": "fca05739",
   "metadata": {},
   "outputs": [
    {
     "data": {
      "text/plain": [
       "200.0"
      ]
     },
     "execution_count": 37,
     "metadata": {},
     "output_type": "execute_result"
    }
   ],
   "source": [
    "crypto_tokens[1][\"current_price_usd\"]"
   ]
  },
  {
   "cell_type": "markdown",
   "id": "3ebb089b",
   "metadata": {},
   "source": [
    "### Q2: Write Data  \n",
    "Task: Add a new token \"Token D\" with some initial data to the `crypto_tokens` list."
   ]
  },
  {
   "cell_type": "code",
   "execution_count": 38,
   "id": "acd59b57",
   "metadata": {},
   "outputs": [
    {
     "data": {
      "text/plain": [
       "[{'name': 'Token A',\n",
       "  'symbol': 'TKA',\n",
       "  'blockchain': 'Ethereum',\n",
       "  'current_price_usd': 100.0,\n",
       "  'transaction_history': [{'date': '2024-01-10',\n",
       "    'prices': {'open': 98.0, 'close': 100.0, 'high': 101.0, 'low': 97.0},\n",
       "    'volume': 12000},\n",
       "   {'date': '2024-01-09',\n",
       "    'prices': {'open': 97.0, 'close': 98.0, 'high': 99.0, 'low': 96.0},\n",
       "    'volume': 15000}],\n",
       "  'supported_chains': ['Ethereum', 'Polygon']},\n",
       " {'name': 'Token B',\n",
       "  'symbol': 'TKB',\n",
       "  'blockchain': 'Binance Smart Chain',\n",
       "  'current_price_usd': 200.0,\n",
       "  'transaction_history': [{'date': '2024-01-10',\n",
       "    'prices': {'open': 198.0, 'close': 200.0, 'high': 202.0, 'low': 196.0},\n",
       "    'volume': 18000},\n",
       "   {'date': '2024-01-09',\n",
       "    'prices': {'open': 196.0, 'close': 198.0, 'high': 199.0, 'low': 195.0},\n",
       "    'volume': 17000}],\n",
       "  'supported_chains': ['Binance Smart Chain', 'Avalanche']},\n",
       " {'name': 'Token C',\n",
       "  'symbol': 'TKC',\n",
       "  'blockchain': 'Solana',\n",
       "  'current_price_usd': 300.0,\n",
       "  'transaction_history': [{'date': '2024-01-10',\n",
       "    'prices': {'open': 295.0, 'close': 300.0, 'high': 302.0, 'low': 294.0},\n",
       "    'volume': 22000},\n",
       "   {'date': '2024-01-09',\n",
       "    'prices': {'open': 294.0, 'close': 295.0, 'high': 296.0, 'low': 293.0},\n",
       "    'volume': 21000}],\n",
       "  'supported_chains': ['Solana', 'Fantom']},\n",
       " {'name': 'Token D',\n",
       "  'symbol': 'KRUYS',\n",
       "  'blockchain': 'Solana',\n",
       "  'current_price_usd': 1000.0,\n",
       "  'transaction_history': [{'date': '2024-05-11',\n",
       "    'prices': {'open': 900.0, 'close': 1000.0, 'high': 1300.0, 'low': 890.0},\n",
       "    'volume': 2200000},\n",
       "   {'date': '2024-05-10',\n",
       "    'prices': {'open': 850.0, 'close': 900.0, 'high': 980.0, 'low': 807.0},\n",
       "    'volume': 2100000}],\n",
       "  'supported_chains': ['Solana', 'Ethereum', 'Polygon']}]"
      ]
     },
     "execution_count": 38,
     "metadata": {},
     "output_type": "execute_result"
    }
   ],
   "source": [
    "crypto_tokens.append({\n",
    "        \"name\": \"Token D\",\n",
    "        \"symbol\": \"KRUYS\",\n",
    "        \"blockchain\": \"Solana\",\n",
    "        \"current_price_usd\": 1000.0,\n",
    "        \"transaction_history\": [\n",
    "            {\n",
    "                \"date\": \"2024-05-11\",\n",
    "                \"prices\": {\n",
    "                    \"open\": 900.0,\n",
    "                    \"close\": 1000.0,\n",
    "                    \"high\": 1300.0,\n",
    "                    \"low\": 890.0\n",
    "                },\n",
    "                \"volume\": 2200000\n",
    "            },\n",
    "            {\n",
    "                \"date\": \"2024-05-10\",\n",
    "                \"prices\": {\n",
    "                    \"open\": 850.0,\n",
    "                    \"close\": 900.0,\n",
    "                    \"high\": 980.0,\n",
    "                    \"low\": 807.0\n",
    "                },\n",
    "                \"volume\": 2100000\n",
    "            }\n",
    "        ],\n",
    "        \"supported_chains\": [\"Solana\", \"Ethereum\", \"Polygon\"]\n",
    "    }\n",
    ")\n",
    "\n",
    "crypto_tokens"
   ]
  },
  {
   "cell_type": "markdown",
   "id": "803800ec",
   "metadata": {},
   "source": [
    "### Q3: Update Data  \n",
    "Task: Update the current price of \"Token C\" to 310.0."
   ]
  },
  {
   "cell_type": "code",
   "execution_count": 39,
   "id": "03075a27",
   "metadata": {},
   "outputs": [
    {
     "data": {
      "text/plain": [
       "310.0"
      ]
     },
     "execution_count": 39,
     "metadata": {},
     "output_type": "execute_result"
    }
   ],
   "source": [
    "crypto_tokens[2][\"current_price_usd\"] = 310.0\n",
    "crypto_tokens[2][\"current_price_usd\"]"
   ]
  },
  {
   "cell_type": "markdown",
   "id": "ee77c5fd",
   "metadata": {},
   "source": [
    "### Q4: Delete Data  \n",
    "Task: Remove the transaction history for \"Token A\" on \"2024-01-09\"."
   ]
  },
  {
   "cell_type": "code",
   "execution_count": 40,
   "id": "9a9c5a1c",
   "metadata": {},
   "outputs": [
    {
     "data": {
      "text/plain": [
       "[{'date': '2024-01-10',\n",
       "  'prices': {'open': 98.0, 'close': 100.0, 'high': 101.0, 'low': 97.0},\n",
       "  'volume': 12000}]"
      ]
     },
     "execution_count": 40,
     "metadata": {},
     "output_type": "execute_result"
    }
   ],
   "source": [
    "crypto_tokens[0][\"transaction_history\"].pop(1)\n",
    "crypto_tokens[0][\"transaction_history\"]\n"
   ]
  },
  {
   "cell_type": "markdown",
   "id": "e3adde56",
   "metadata": {},
   "source": [
    "### Q5: Read Nested Data  \n",
    "Task: Display the closing price of \"Token B\" on \"2024-01-10\"."
   ]
  },
  {
   "cell_type": "code",
   "execution_count": 41,
   "id": "4052f7d4",
   "metadata": {},
   "outputs": [
    {
     "data": {
      "text/plain": [
       "200.0"
      ]
     },
     "execution_count": 41,
     "metadata": {},
     "output_type": "execute_result"
    }
   ],
   "source": [
    "crypto_tokens[1][\"transaction_history\"][0][\"prices\"][\"close\"]"
   ]
  },
  {
   "cell_type": "markdown",
   "id": "2fd4994c",
   "metadata": {},
   "source": [
    "### Q6: Update Nested Data  \n",
    "Task: Change the opening price of \"Token A\" on \"2024-01-10\" to 99.0."
   ]
  },
  {
   "cell_type": "code",
   "execution_count": 42,
   "id": "584ff98d",
   "metadata": {},
   "outputs": [
    {
     "data": {
      "text/plain": [
       "[{'name': 'Token A',\n",
       "  'symbol': 'TKA',\n",
       "  'blockchain': 'Ethereum',\n",
       "  'current_price_usd': 100.0,\n",
       "  'transaction_history': [{'date': '2024-01-10',\n",
       "    'prices': {'open': 99.0, 'close': 100.0, 'high': 101.0, 'low': 97.0},\n",
       "    'volume': 12000}],\n",
       "  'supported_chains': ['Ethereum', 'Polygon']},\n",
       " {'name': 'Token B',\n",
       "  'symbol': 'TKB',\n",
       "  'blockchain': 'Binance Smart Chain',\n",
       "  'current_price_usd': 200.0,\n",
       "  'transaction_history': [{'date': '2024-01-10',\n",
       "    'prices': {'open': 198.0, 'close': 200.0, 'high': 202.0, 'low': 196.0},\n",
       "    'volume': 18000},\n",
       "   {'date': '2024-01-09',\n",
       "    'prices': {'open': 196.0, 'close': 198.0, 'high': 199.0, 'low': 195.0},\n",
       "    'volume': 17000}],\n",
       "  'supported_chains': ['Binance Smart Chain', 'Avalanche']},\n",
       " {'name': 'Token C',\n",
       "  'symbol': 'TKC',\n",
       "  'blockchain': 'Solana',\n",
       "  'current_price_usd': 310.0,\n",
       "  'transaction_history': [{'date': '2024-01-10',\n",
       "    'prices': {'open': 295.0, 'close': 300.0, 'high': 302.0, 'low': 294.0},\n",
       "    'volume': 22000},\n",
       "   {'date': '2024-01-09',\n",
       "    'prices': {'open': 294.0, 'close': 295.0, 'high': 296.0, 'low': 293.0},\n",
       "    'volume': 21000}],\n",
       "  'supported_chains': ['Solana', 'Fantom']},\n",
       " {'name': 'Token D',\n",
       "  'symbol': 'KRUYS',\n",
       "  'blockchain': 'Solana',\n",
       "  'current_price_usd': 1000.0,\n",
       "  'transaction_history': [{'date': '2024-05-11',\n",
       "    'prices': {'open': 900.0, 'close': 1000.0, 'high': 1300.0, 'low': 890.0},\n",
       "    'volume': 2200000},\n",
       "   {'date': '2024-05-10',\n",
       "    'prices': {'open': 850.0, 'close': 900.0, 'high': 980.0, 'low': 807.0},\n",
       "    'volume': 2100000}],\n",
       "  'supported_chains': ['Solana', 'Ethereum', 'Polygon']}]"
      ]
     },
     "execution_count": 42,
     "metadata": {},
     "output_type": "execute_result"
    }
   ],
   "source": [
    "crypto_tokens[0][\"transaction_history\"][0][\"prices\"][\"open\"] = 99.0\n",
    "crypto_tokens"
   ]
  },
  {
   "cell_type": "markdown",
   "id": "90027ae7",
   "metadata": {},
   "source": [
    "### Q7: Add Nested Data  \n",
    "Task: Add a new transaction history entry for \"Token C\" on \"2024-01-11\"."
   ]
  },
  {
   "cell_type": "code",
   "execution_count": 43,
   "id": "8d59cd00",
   "metadata": {},
   "outputs": [
    {
     "data": {
      "text/plain": [
       "{'date': '2024-01-11',\n",
       " 'prices': {'open': 300.0, 'close': 460.0, 'high': 490.0, 'low': 294.0},\n",
       " 'volume': 23000}"
      ]
     },
     "execution_count": 43,
     "metadata": {},
     "output_type": "execute_result"
    }
   ],
   "source": [
    "crypto_tokens[2][\"transaction_history\"].insert(0, {\n",
    "    'date': '2024-01-11',\n",
    "    'prices': {'open': 300.0, 'close': 460.0, 'high': 490.0, 'low': 294.0},\n",
    "    'volume': 23000\n",
    "})\n",
    "crypto_tokens[2][\"transaction_history\"][0]"
   ]
  },
  {
   "cell_type": "markdown",
   "id": "a6cacb95",
   "metadata": {},
   "source": [
    "### Q8: Delete an Item from a List Inside a Dictionary  \n",
    "Task: Remove \"Avalanche\" from the supported chains of \"Token B\"."
   ]
  },
  {
   "cell_type": "code",
   "execution_count": 44,
   "id": "487e3e8d",
   "metadata": {},
   "outputs": [
    {
     "data": {
      "text/plain": [
       "['Binance Smart Chain']"
      ]
     },
     "execution_count": 44,
     "metadata": {},
     "output_type": "execute_result"
    }
   ],
   "source": [
    "crypto_tokens[1]['supported_chains'].remove(\"Avalanche\")\n",
    "crypto_tokens[1]['supported_chains']"
   ]
  },
  {
   "cell_type": "markdown",
   "id": "5426da41",
   "metadata": {},
   "source": [
    "## Problem 2: Crypto Investment Portfolio\n",
    "This data structure represents a crypto investment portfolio, including various assets like tokens, stablecoins, and NFTs, along with their holdings and performance metrics.\n"
   ]
  },
  {
   "cell_type": "code",
   "execution_count": 45,
   "id": "382f77cf",
   "metadata": {},
   "outputs": [],
   "source": [
    "crypto_portfolio = {\n",
    "    \"investor_name\": \"Jane Doe\",\n",
    "    \"portfolio_id\": \"JD1234\",\n",
    "    \"assets\": {\n",
    "        \"tokens\": [\n",
    "            {\n",
    "                \"ticker\": \"ETH\",\n",
    "                \"quantity\": 50,\n",
    "                \"purchase_price\": 2000.00,\n",
    "                \"current_price\": 2100.00\n",
    "            },\n",
    "            {\n",
    "                \"ticker\": \"BTC\",\n",
    "                \"quantity\": 30,\n",
    "                \"purchase_price\": 40000.00,\n",
    "                \"current_price\": 41000.00\n",
    "            }\n",
    "        ],\n",
    "        \"stablecoins\": [\n",
    "            {\n",
    "                \"identifier\": \"USDC\",\n",
    "                \"quantity\": 10000,\n",
    "                \"purchase_price\": 1.00,\n",
    "                \"current_price\": 1.00,\n",
    "                \"peg_currency\": \"USD\"\n",
    "            }\n",
    "        ],\n",
    "        \"nfts\": [\n",
    "            {\n",
    "                \"name\": \"CryptoArt 123\",\n",
    "                \"quantity\": 1,\n",
    "                \"purchase_price\": 5000.00,\n",
    "                \"current_price\": 5500.00\n",
    "            }\n",
    "        ]\n",
    "    },\n",
    "    \"cash_holdings_usd\": 10000.00,\n",
    "    \"investment_goals\": {\"retirement\": 2035, \"education\": 2025}\n",
    "}"
   ]
  },
  {
   "cell_type": "markdown",
   "id": "eaecd670",
   "metadata": {},
   "source": [
    "```python\n",
    "\n",
    "\n",
    "Q1: Read Data  \n",
    "Task: Display the current price of the NFT \"CryptoArt 123\".\n",
    "\n",
    "Q2: Write Data  \n",
    "Task: Add a new token with ticker \"ADA\", 1000 units, a purchase price of 1.50, and a current price of 1.60 to the tokens in the assets.\n",
    "\n",
    "Q3: Update Data  \n",
    "Task: Update the quantity of \"ETH\" token to 60.\n",
    "\n",
    "Q4: Delete Data  \n",
    "Task: Remove the stablecoin with identifier \"USDC\" from the stablecoins in assets.\n",
    "\n",
    "Q5: Read Nested Data  \n",
    "Task: Display the peg currency of the stablecoin in the portfolio.\n",
    "\n",
    "Q6: Update Nested Data  \n",
    "Task: Change the current price of \"BTC\" token to 41500.00.\n",
    "\n",
    "Q7: Add Nested Data  \n",
    "Task: Add a new goal \"vacation\" set for the year 2028 in the investment goals.\n",
    "\n",
    "Q8: Delete an Item from a List Inside a Dictionary  \n",
    "Task: Remove the NFT \"CryptoArt 123\" from the portfolio."
   ]
  },
  {
   "cell_type": "markdown",
   "id": "42d843d1",
   "metadata": {},
   "source": [
    "## Solution"
   ]
  },
  {
   "cell_type": "markdown",
   "id": "d91b273c",
   "metadata": {},
   "source": [
    "### Q1: Read Data  \n",
    "Task: Display the current price of the NFT \"CryptoArt 123\"."
   ]
  },
  {
   "cell_type": "code",
   "execution_count": 46,
   "id": "775871e9",
   "metadata": {},
   "outputs": [
    {
     "data": {
      "text/plain": [
       "5500.0"
      ]
     },
     "execution_count": 46,
     "metadata": {},
     "output_type": "execute_result"
    }
   ],
   "source": [
    "crypto_portfolio[\"assets\"][\"nfts\"][0][\"current_price\"]"
   ]
  },
  {
   "cell_type": "markdown",
   "id": "83280a8a",
   "metadata": {},
   "source": [
    "###  Q2: Write Data  \n",
    "Task: Add a new token with ticker \"ADA\", 1000 units, a purchase price of 1.50, and a current price of 1.60 to the tokens in the assets."
   ]
  },
  {
   "cell_type": "code",
   "execution_count": 47,
   "id": "4700d11c",
   "metadata": {},
   "outputs": [
    {
     "data": {
      "text/plain": [
       "[{'ticker': 'ETH',\n",
       "  'quantity': 50,\n",
       "  'purchase_price': 2000.0,\n",
       "  'current_price': 2100.0},\n",
       " {'ticker': 'BTC',\n",
       "  'quantity': 30,\n",
       "  'purchase_price': 40000.0,\n",
       "  'current_price': 41000.0},\n",
       " {'ticker': 'ADA',\n",
       "  'quantity': 1000,\n",
       "  'purchase_price': 1.5,\n",
       "  'current_price': 1.6}]"
      ]
     },
     "execution_count": 47,
     "metadata": {},
     "output_type": "execute_result"
    }
   ],
   "source": [
    "crypto_portfolio[\"assets\"][\"tokens\"].append({\n",
    "                \"ticker\": \"ADA\",\n",
    "                \"quantity\": 1000,\n",
    "                \"purchase_price\": 1.50,\n",
    "                \"current_price\": 1.60\n",
    "            })\n",
    "crypto_portfolio[\"assets\"][\"tokens\"]"
   ]
  },
  {
   "cell_type": "markdown",
   "id": "9caa1427",
   "metadata": {},
   "source": [
    "### Q3: Update Data  \n",
    "Task: Update the quantity of \"ETH\" token to 60"
   ]
  },
  {
   "cell_type": "code",
   "execution_count": 48,
   "id": "48fe78ff",
   "metadata": {},
   "outputs": [
    {
     "data": {
      "text/plain": [
       "{'ticker': 'ETH',\n",
       " 'quantity': 60,\n",
       " 'purchase_price': 2000.0,\n",
       " 'current_price': 2100.0}"
      ]
     },
     "execution_count": 48,
     "metadata": {},
     "output_type": "execute_result"
    }
   ],
   "source": [
    "crypto_portfolio[\"assets\"][\"tokens\"][0][\"quantity\"] = 60\n",
    "crypto_portfolio[\"assets\"][\"tokens\"][0]"
   ]
  },
  {
   "cell_type": "markdown",
   "id": "6c84dfeb",
   "metadata": {},
   "source": [
    "### Q4: Delete Data  \n",
    "Task: Remove the stablecoin with identifier \"USDC\" from the stablecoins in assets."
   ]
  },
  {
   "cell_type": "code",
   "execution_count": 49,
   "id": "93e8919a",
   "metadata": {},
   "outputs": [
    {
     "data": {
      "text/plain": [
       "{'tokens': [{'ticker': 'ETH',\n",
       "   'quantity': 60,\n",
       "   'purchase_price': 2000.0,\n",
       "   'current_price': 2100.0},\n",
       "  {'ticker': 'BTC',\n",
       "   'quantity': 30,\n",
       "   'purchase_price': 40000.0,\n",
       "   'current_price': 41000.0},\n",
       "  {'ticker': 'ADA',\n",
       "   'quantity': 1000,\n",
       "   'purchase_price': 1.5,\n",
       "   'current_price': 1.6}],\n",
       " 'stablecoins': [],\n",
       " 'nfts': [{'name': 'CryptoArt 123',\n",
       "   'quantity': 1,\n",
       "   'purchase_price': 5000.0,\n",
       "   'current_price': 5500.0}]}"
      ]
     },
     "execution_count": 49,
     "metadata": {},
     "output_type": "execute_result"
    }
   ],
   "source": [
    "crypto_portfolio[\"assets\"][\"stablecoins\"].pop(0)\n",
    "crypto_portfolio[\"assets\"]"
   ]
  },
  {
   "cell_type": "markdown",
   "id": "ae93de6b",
   "metadata": {},
   "source": [
    "### Q5: Read Nested Data  \n",
    "Task: Display the peg currency of the stablecoin in the portfolio."
   ]
  },
  {
   "cell_type": "code",
   "execution_count": 53,
   "id": "3b63e837",
   "metadata": {},
   "outputs": [
    {
     "data": {
      "text/plain": [
       "'USD'"
      ]
     },
     "execution_count": 53,
     "metadata": {},
     "output_type": "execute_result"
    }
   ],
   "source": [
    "crypto_portfolio = {\n",
    "    \"investor_name\": \"Jane Doe\",\n",
    "    \"portfolio_id\": \"JD1234\",\n",
    "    \"assets\": {\n",
    "        \"tokens\": [\n",
    "            {\n",
    "                \"ticker\": \"ETH\",\n",
    "                \"quantity\": 50,\n",
    "                \"purchase_price\": 2000.00,\n",
    "                \"current_price\": 2100.00\n",
    "            },\n",
    "            {\n",
    "                \"ticker\": \"BTC\",\n",
    "                \"quantity\": 30,\n",
    "                \"purchase_price\": 40000.00,\n",
    "                \"current_price\": 41000.00\n",
    "            }\n",
    "        ],\n",
    "        \"stablecoins\": [\n",
    "            {\n",
    "                \"identifier\": \"USDC\",\n",
    "                \"quantity\": 10000,\n",
    "                \"purchase_price\": 1.00,\n",
    "                \"current_price\": 1.00,\n",
    "                \"peg_currency\": \"USD\"\n",
    "            }\n",
    "        ],\n",
    "        \"nfts\": [\n",
    "            {\n",
    "                \"name\": \"CryptoArt 123\",\n",
    "                \"quantity\": 1,\n",
    "                \"purchase_price\": 5000.00,\n",
    "                \"current_price\": 5500.00\n",
    "            }\n",
    "        ]\n",
    "    },\n",
    "    \"cash_holdings_usd\": 10000.00,\n",
    "    \"investment_goals\": {\"retirement\": 2035, \"education\": 2025}\n",
    "}\n",
    "\n",
    "crypto_portfolio[\"assets\"][\"stablecoins\"][0][\"peg_currency\"]"
   ]
  },
  {
   "cell_type": "markdown",
   "id": "521ff54b",
   "metadata": {},
   "source": [
    "### Q6: Update Nested Data  \n",
    "Task: Change the current price of \"BTC\" token to 41500.00."
   ]
  },
  {
   "cell_type": "code",
   "execution_count": 54,
   "id": "56eac54a",
   "metadata": {},
   "outputs": [
    {
     "data": {
      "text/plain": [
       "{'ticker': 'BTC',\n",
       " 'quantity': 30,\n",
       " 'purchase_price': 40000.0,\n",
       " 'current_price': 41500.0}"
      ]
     },
     "execution_count": 54,
     "metadata": {},
     "output_type": "execute_result"
    }
   ],
   "source": [
    "crypto_portfolio[\"assets\"][\"tokens\"][1][\"current_price\"] = 41500.00\n",
    "crypto_portfolio[\"assets\"][\"tokens\"][1]"
   ]
  },
  {
   "cell_type": "markdown",
   "id": "3d5bbe83",
   "metadata": {},
   "source": [
    "### Q7: Add Nested Data  \n",
    "Task: Add a new goal \"vacation\" set for the year 2028 in the investment goals."
   ]
  },
  {
   "cell_type": "code",
   "execution_count": 55,
   "id": "acf436b8",
   "metadata": {},
   "outputs": [
    {
     "data": {
      "text/plain": [
       "{'retirement': 2035, 'education': 2025, 'vacation': 2028}"
      ]
     },
     "execution_count": 55,
     "metadata": {},
     "output_type": "execute_result"
    }
   ],
   "source": [
    "crypto_portfolio[\"investment_goals\"].update({\"vacation\": 2028})\n",
    "crypto_portfolio[\"investment_goals\"]"
   ]
  },
  {
   "cell_type": "markdown",
   "id": "750d4c72",
   "metadata": {},
   "source": [
    "### Q8: Delete an Item from a List Inside a Dictionary  \n",
    "Task: Remove the NFT \"CryptoArt 123\" from the portfolio."
   ]
  },
  {
   "cell_type": "code",
   "execution_count": 57,
   "id": "d9e835c7",
   "metadata": {},
   "outputs": [
    {
     "data": {
      "text/plain": [
       "[]"
      ]
     },
     "execution_count": 57,
     "metadata": {},
     "output_type": "execute_result"
    }
   ],
   "source": [
    "crypto_portfolio[\"assets\"][\"nfts\"].remove({\n",
    "    \"name\": \"CryptoArt 123\",\n",
    "    \"quantity\": 1,\n",
    "    \"purchase_price\": 5000.00,\n",
    "    \"current_price\": 5500.00\n",
    "})\n",
    "crypto_portfolio[\"assets\"][\"nfts\"]"
   ]
  },
  {
   "cell_type": "markdown",
   "id": "dfd80881",
   "metadata": {},
   "source": [
    "## Problem 4: Cryptocurrency Exchange Rates\n",
    "This data structure tracks cryptocurrency exchange rates relative to a base stablecoin.\n",
    "\n"
   ]
  },
  {
   "cell_type": "code",
   "execution_count": 75,
   "id": "bcc92764",
   "metadata": {},
   "outputs": [],
   "source": [
    "crypto_exchange = {\n",
    "    \"base_currency\": \"USDT\",\n",
    "    \"exchange_rates\": {\n",
    "        \"ETH\": {\n",
    "            \"current_rate\": 0.0005,\n",
    "            \"historical_rates\": [\n",
    "                {\"date\": \"2024-01-10\", \"rate\": 0.00048},\n",
    "                {\"date\": \"2024-01-09\", \"rate\": 0.00049}\n",
    "            ]\n",
    "        },\n",
    "        \"BTC\": {\n",
    "            \"current_rate\": 0.000025,\n",
    "            \"historical_rates\": [\n",
    "                {\"date\": \"2024-01-10\", \"rate\": 0.000024},\n",
    "                {\"date\": \"2024-01-09\", \"rate\": 0.000026}\n",
    "            ]\n",
    "        }\n",
    "    }\n",
    "}"
   ]
  },
  {
   "cell_type": "markdown",
   "id": "a4228f0e",
   "metadata": {},
   "source": [
    "```python\n",
    "\n",
    "Q1: Read Data  \n",
    "Task: Display the current exchange rate for ETH.\n",
    "\n",
    "Q2: Write Data  \n",
    "Task: Add a new currency \"ADA\" with a current rate of 0.0015 and two historical rates: 0.0016 on \"2024-01-10\" and 0.0017 on \"2024-01-09\".\n",
    "\n",
    "Q3: Update Data  \n",
    "Task: Update the current exchange rate of BTC to 0.000027.\n",
    "\n",
    "Q4: Delete Data  \n",
    "Task: Remove the historical rates for ETH.\n",
    "Q5: Read Nested Data  \n",
    "Task: Display the exchange rate of BTC on \"2024-01-10\".\n",
    "\n",
    "Q6: Update Nested Data  \n",
    "Task: Change the rate of ETH on \"2024-01-10\" to 0.00047.\n",
    "\n",
    "Q7: Add Nested Data  \n",
    "Task: Add a new historical rate for BTC on \"2024-01-11\" with a rate of 0.000023.\n",
    "\n",
    "Q8: Delete an Item from a List Inside a Dictionary  \n",
    "Task: Remove the historical rate of BTC on \"2024-01-09\".\n",
    "\n"
   ]
  },
  {
   "cell_type": "markdown",
   "id": "6bd74699",
   "metadata": {},
   "source": [
    "### Q1: Read Data  \n",
    "Task: Display the current exchange rate for ETH."
   ]
  },
  {
   "cell_type": "code",
   "execution_count": 76,
   "id": "190bf313",
   "metadata": {},
   "outputs": [
    {
     "data": {
      "text/plain": [
       "0.0005"
      ]
     },
     "execution_count": 76,
     "metadata": {},
     "output_type": "execute_result"
    }
   ],
   "source": [
    "crypto_exchange[\"exchange_rates\"][\"ETH\"][\"current_rate\"]"
   ]
  },
  {
   "cell_type": "markdown",
   "id": "6c55e521",
   "metadata": {},
   "source": [
    "### Q2: Write Data  \n",
    "Task: Add a new currency \"ADA\" with a current rate of 0.0015 and two historical rates: 0.0016 on \"2024-01-10\" and 0.0017 on \"2024-01-09\"."
   ]
  },
  {
   "cell_type": "code",
   "execution_count": 77,
   "id": "1de32c52",
   "metadata": {},
   "outputs": [
    {
     "data": {
      "text/plain": [
       "{'ETH': {'current_rate': 0.0005,\n",
       "  'historical_rates': [{'date': '2024-01-10', 'rate': 0.00048},\n",
       "   {'date': '2024-01-09', 'rate': 0.00049}]},\n",
       " 'BTC': {'current_rate': 2.5e-05,\n",
       "  'historical_rates': [{'date': '2024-01-10', 'rate': 2.4e-05},\n",
       "   {'date': '2024-01-09', 'rate': 2.6e-05}]},\n",
       " 'ADA': {'current_rate': 0.0015,\n",
       "  'historical_rates': [{'date': '2024-01-10', 'rate': 0.0016},\n",
       "   {'date': '2024-01-09', 'rate': 0.0017}]}}"
      ]
     },
     "execution_count": 77,
     "metadata": {},
     "output_type": "execute_result"
    }
   ],
   "source": [
    "crypto_exchange[\"exchange_rates\"][\"ADA\"] = {\n",
    "    \"current_rate\": 0.0015,\n",
    "    \"historical_rates\": [\n",
    "        {\"date\": \"2024-01-10\", \"rate\": 0.0016},\n",
    "        {\"date\": \"2024-01-09\", \"rate\": 0.0017}\n",
    "    ]\n",
    "}\n",
    "crypto_exchange[\"exchange_rates\"]"
   ]
  },
  {
   "cell_type": "markdown",
   "id": "0c2fb340",
   "metadata": {},
   "source": [
    "### Q3: Update Data  \n",
    "Task: Update the current exchange rate of BTC to 0.000027."
   ]
  },
  {
   "cell_type": "code",
   "execution_count": 78,
   "id": "b8ab6b23",
   "metadata": {},
   "outputs": [
    {
     "data": {
      "text/plain": [
       "{'ETH': {'current_rate': 0.0005,\n",
       "  'historical_rates': [{'date': '2024-01-10', 'rate': 0.00048},\n",
       "   {'date': '2024-01-09', 'rate': 0.00049}]},\n",
       " 'BTC': {'current_rate': 2.7e-05,\n",
       "  'historical_rates': [{'date': '2024-01-10', 'rate': 2.4e-05},\n",
       "   {'date': '2024-01-09', 'rate': 2.6e-05}]},\n",
       " 'ADA': {'current_rate': 0.0015,\n",
       "  'historical_rates': [{'date': '2024-01-10', 'rate': 0.0016},\n",
       "   {'date': '2024-01-09', 'rate': 0.0017}]}}"
      ]
     },
     "execution_count": 78,
     "metadata": {},
     "output_type": "execute_result"
    }
   ],
   "source": [
    "crypto_exchange[\"exchange_rates\"][\"BTC\"][\"current_rate\"] = 0.000027\n",
    "crypto_exchange[\"exchange_rates\"]"
   ]
  },
  {
   "cell_type": "markdown",
   "id": "8727135d",
   "metadata": {},
   "source": [
    "### Q4: Delete Data  \n",
    "Task: Remove the historical rates for ETH."
   ]
  },
  {
   "cell_type": "code",
   "execution_count": 79,
   "id": "cd9091a9",
   "metadata": {},
   "outputs": [
    {
     "data": {
      "text/plain": [
       "{'ETH': {'current_rate': 0.0005},\n",
       " 'BTC': {'current_rate': 2.7e-05,\n",
       "  'historical_rates': [{'date': '2024-01-10', 'rate': 2.4e-05},\n",
       "   {'date': '2024-01-09', 'rate': 2.6e-05}]},\n",
       " 'ADA': {'current_rate': 0.0015,\n",
       "  'historical_rates': [{'date': '2024-01-10', 'rate': 0.0016},\n",
       "   {'date': '2024-01-09', 'rate': 0.0017}]}}"
      ]
     },
     "execution_count": 79,
     "metadata": {},
     "output_type": "execute_result"
    }
   ],
   "source": [
    "del crypto_exchange[\"exchange_rates\"][\"ETH\"][\"historical_rates\"]\n",
    "crypto_exchange[\"exchange_rates\"]"
   ]
  },
  {
   "cell_type": "markdown",
   "id": "ef575fc1",
   "metadata": {},
   "source": [
    "### Q5: Read Nested Data  \n",
    "Task: Display the exchange rate of BTC on \"2024-01-10\"."
   ]
  },
  {
   "cell_type": "code",
   "execution_count": 80,
   "id": "8fef3222",
   "metadata": {},
   "outputs": [
    {
     "data": {
      "text/plain": [
       "2.4e-05"
      ]
     },
     "execution_count": 80,
     "metadata": {},
     "output_type": "execute_result"
    }
   ],
   "source": [
    "crypto_exchange['exchange_rates']['BTC']['historical_rates'][0][\"rate\"]"
   ]
  },
  {
   "cell_type": "markdown",
   "id": "29d60a98",
   "metadata": {},
   "source": [
    "### Q6: Update Nested Data  \n",
    "Task: Change the rate of ETH on \"2024-01-10\" to 0.00047."
   ]
  },
  {
   "cell_type": "code",
   "execution_count": 82,
   "id": "4631c22e",
   "metadata": {},
   "outputs": [
    {
     "data": {
      "text/plain": [
       "{'ETH': {'current_rate': 0.0005,\n",
       "  'historical_rates': [{'date': '2024-01-10', 'rate': 0.00047},\n",
       "   {'date': '2024-01-09', 'rate': 0.00049}]},\n",
       " 'BTC': {'current_rate': 2.7e-05,\n",
       "  'historical_rates': [{'date': '2024-01-10', 'rate': 2.4e-05},\n",
       "   {'date': '2024-01-09', 'rate': 2.6e-05}]},\n",
       " 'ADA': {'current_rate': 0.0015,\n",
       "  'historical_rates': [{'date': '2024-01-10', 'rate': 0.0016},\n",
       "   {'date': '2024-01-09', 'rate': 0.0017}]}}"
      ]
     },
     "execution_count": 82,
     "metadata": {},
     "output_type": "execute_result"
    }
   ],
   "source": [
    "crypto_exchange['exchange_rates']['ETH'][\"historical_rates\"] = [\n",
    "\t{\"date\": \"2024-01-10\", \"rate\": 0.00047},\n",
    "\t{\"date\": \"2024-01-09\", \"rate\": 0.00049}\n",
    "]\n",
    "\n",
    "crypto_exchange['exchange_rates']"
   ]
  },
  {
   "cell_type": "markdown",
   "id": "5d5147a6",
   "metadata": {},
   "source": [
    "### Q7: Add Nested Data  \n",
    "Task: Add a new historical rate for BTC on \"2024-01-11\" with a rate of 0.000023."
   ]
  },
  {
   "cell_type": "code",
   "execution_count": 83,
   "id": "372c09d7",
   "metadata": {},
   "outputs": [
    {
     "data": {
      "text/plain": [
       "[{'date': '2024-01-11', 'rate': 2.3e-05},\n",
       " {'date': '2024-01-10', 'rate': 2.4e-05},\n",
       " {'date': '2024-01-09', 'rate': 2.6e-05}]"
      ]
     },
     "execution_count": 83,
     "metadata": {},
     "output_type": "execute_result"
    }
   ],
   "source": [
    "crypto_exchange['exchange_rates']['BTC'][\"historical_rates\"].insert(0, {\n",
    "    'date': '2024-01-11',\n",
    "    'rate': 0.000023\n",
    "} )\n",
    "crypto_exchange['exchange_rates']['BTC'][\"historical_rates\"]"
   ]
  },
  {
   "cell_type": "markdown",
   "id": "3b1474a9",
   "metadata": {},
   "source": [
    "### Q8: Delete an Item from a List Inside a Dictionary  \n",
    "Task: Remove the historical rate of BTC on \"2024-01-09\"."
   ]
  },
  {
   "cell_type": "code",
   "execution_count": 84,
   "id": "7f2bc13f",
   "metadata": {},
   "outputs": [
    {
     "data": {
      "text/plain": [
       "[{'date': '2024-01-11', 'rate': 2.3e-05},\n",
       " {'date': '2024-01-09', 'rate': 2.6e-05}]"
      ]
     },
     "execution_count": 84,
     "metadata": {},
     "output_type": "execute_result"
    }
   ],
   "source": [
    "del crypto_exchange['exchange_rates']['BTC'][\"historical_rates\"][1]\n",
    "crypto_exchange['exchange_rates']['BTC'][\"historical_rates\"]"
   ]
  },
  {
   "cell_type": "markdown",
   "id": "d3304bd7",
   "metadata": {},
   "source": [
    "Check if user is above 18 and verified to proceed\n",
    "\n",
    "Print Access Granted if age > 18 or has parents permission\n",
    "\n",
    "Use Not to check if a wallet is not blacklisted"
   ]
  },
  {
   "cell_type": "code",
   "execution_count": 90,
   "id": "30974f26",
   "metadata": {},
   "outputs": [
    {
     "name": "stdout",
     "output_type": "stream",
     "text": [
      "Access Granted\n",
      "Wallet is not blacklisted, you can proceed.\n"
     ]
    }
   ],
   "source": [
    "age = input(\"What is your Age and are you verified? Please enter your age in numbers\" ) \n",
    "verified = input(\"Did you get your parent's permission? please enter 'yes' or 'no': \")\n",
    "Wallet_blacklisted = False \n",
    "\n",
    "if int(age) > 18 or verified.lower() == 'yes':\n",
    "    print(\"Access Granted\")\n",
    "else:\n",
    "    print(\"Access Denied\")\n",
    "\n",
    "if not Wallet_blacklisted:\n",
    "    print(\"Wallet is not blacklisted, you can proceed.\")\n",
    "else:\n",
    "    print(\"Wallet is blacklisted, access denied.\")\n",
    "# --- IGNORE ---    "
   ]
  },
  {
   "cell_type": "code",
   "execution_count": 91,
   "id": "80959740",
   "metadata": {},
   "outputs": [
    {
     "name": "stdout",
     "output_type": "stream",
     "text": [
      "Even numbers from 1 to 100: [2, 4, 6, 8, 10, 12, 14, 16, 18, 20, 22, 24, 26, 28, 30, 32, 34, 36, 38, 40, 42, 44, 46, 48, 50, 52, 54, 56, 58, 60, 62, 64, 66, 68, 70, 72, 74, 76, 78, 80, 82, 84, 86, 88, 90, 92, 94, 96, 98, 100]\n"
     ]
    }
   ],
   "source": [
    "even = []\n",
    "for i in range(1, 101):\n",
    "    if i % 2 == 0:\n",
    "        even.append(i)\n",
    "print(\"Even numbers from 1 to 100:\", even)"
   ]
  },
  {
   "cell_type": "code",
   "execution_count": 93,
   "id": "3a633645",
   "metadata": {},
   "outputs": [
    {
     "name": "stdout",
     "output_type": "stream",
     "text": [
      "Even numbers from 1 to 100: [0, 2, 4, 6, 8, 10, 12, 14, 16, 18, 20, 22, 24, 26, 28, 30, 32, 34, 36, 38, 40, 42, 44, 46, 48, 50, 52, 54, 56, 58, 60, 62, 64, 66, 68, 70, 72, 74, 76, 78, 80, 82, 84, 86, 88, 90, 92, 94, 96, 98, 100]\n"
     ]
    }
   ],
   "source": [
    "even =[]\n",
    "i = 0\n",
    "while True:\n",
    "    if i > 100:\n",
    "        break\n",
    "    if i % 2 == 0:\n",
    "        even.append(i)\n",
    "    i += 1\n",
    "print(\"Even numbers from 1 to 100:\", even)"
   ]
  }
 ],
 "metadata": {
  "kernelspec": {
   "display_name": "Problem-Solver",
   "language": "python",
   "name": "python3"
  },
  "language_info": {
   "codemirror_mode": {
    "name": "ipython",
    "version": 3
   },
   "file_extension": ".py",
   "mimetype": "text/x-python",
   "name": "python",
   "nbconvert_exporter": "python",
   "pygments_lexer": "ipython3",
   "version": "3.13.5"
  }
 },
 "nbformat": 4,
 "nbformat_minor": 5
}
