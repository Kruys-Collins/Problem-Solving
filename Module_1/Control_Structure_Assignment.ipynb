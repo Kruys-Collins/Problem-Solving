{
 "cells": [
  {
   "cell_type": "markdown",
   "id": "88eaf378",
   "metadata": {},
   "source": [
    "# Python problem for Control Structure\n",
    "\n",
    "## LOOPS (Iteration-based problems)\n",
    "\n",
    "### Daily Gas Fee Average\n",
    "\n",
    " Description: Calculate the average gas fee from a list of daily Ethereum gas fees.\n",
    " Input: List of gas fees (e.g., [30, 40, 35, 50, 45])\n",
    " Output: Average gas fee (e.g., 40.0)"
   ]
  },
  {
   "cell_type": "code",
   "execution_count": 3,
   "id": "c6411d29",
   "metadata": {},
   "outputs": [
    {
     "name": "stdout",
     "output_type": "stream",
     "text": [
      "Average gas fee over the last 7 day is 60.0\n"
     ]
    }
   ],
   "source": [
    "gas_fees_last_7D = [30,40,50,60,70,80,90] \n",
    "total = 0\n",
    "for fee in gas_fees_last_7D:\n",
    "    total += fee\n",
    "average_fee = total / len(gas_fees_last_7D)\n",
    "print(f\"Average gas fee over the last 7 day is {average_fee}\")"
   ]
  },
  {
   "cell_type": "markdown",
   "id": "9f23119a",
   "metadata": {},
   "source": [
    "### Highest Daily Transaction Count\n",
    " Description: Find the day with the highest number of transactions on a blockchain.\n",
    " Input: List of daily transaction counts (e.g., [1200, 1400, 1350, 1600, 1100])\n",
    " Output: Day with the highest transaction count (e.g., Day 4)\n"
   ]
  },
  {
   "cell_type": "code",
   "execution_count": 5,
   "id": "1871f586",
   "metadata": {},
   "outputs": [
    {
     "name": "stdout",
     "output_type": "stream",
     "text": [
      "Day with the highest transaction count is Day 6\n"
     ]
    }
   ],
   "source": [
    "daily_transaction_counts = [1200, 1400, 1350, 1600, 1100, 2450, 1300]\n",
    "max_num = 0\n",
    "for txn in daily_transaction_counts:\n",
    "    if txn > max_num:\n",
    "        max_num = txn\n",
    "day_with_max_txn = daily_transaction_counts.index(max_num) + 1\n",
    "print(f\"Day with the highest transaction count is Day {day_with_max_txn}\")\n"
   ]
  },
  {
   "cell_type": "markdown",
   "id": "0a464e71",
   "metadata": {},
   "source": [
    "### Find Token Min/Max Price\n",
    " Description: Determine the lowest and highest price of a token over a week.\n",
    " Input: List of prices (e.g., [2.1, 2.5, 2.0, 2.8, 2.6])\n",
    " Output: Min: 2.0, Max: 2.8"
   ]
  },
  {
   "cell_type": "code",
   "execution_count": 6,
   "id": "d576e5e6",
   "metadata": {},
   "outputs": [
    {
     "name": "stdout",
     "output_type": "stream",
     "text": [
      "Min: 2.0, Max: 2.8\n"
     ]
    }
   ],
   "source": [
    "list_of_prices = [2.1, 2.5, 2.0, 2.8, 2.6]\n",
    "min_price = list_of_prices[0]\n",
    "max_price = list_of_prices[0]\n",
    "for price in list_of_prices:\n",
    "    if price < min_price:\n",
    "        min_price = price\n",
    "    if price > max_price:\n",
    "        max_price = price\n",
    "print(f\"Min: {min_price}, Max: {max_price}\")"
   ]
  },
  {
   "cell_type": "markdown",
   "id": "77609881",
   "metadata": {},
   "source": [
    "### Simple Moving Average for Token Price\n",
    " Description: Compute the simple moving average of a token’s price for a given window.\n",
    " Input: Prices (e.g., [1.0, 1.2, 1.3, 1.4, 1.6]), Window size (e.g., 3)\n",
    " Output: List of moving averages (e.g., [1.17, 1.3, 1.43])\n"
   ]
  },
  {
   "cell_type": "code",
   "execution_count": 1,
   "id": "edc6e5cf",
   "metadata": {},
   "outputs": [
    {
     "name": "stdout",
     "output_type": "stream",
     "text": [
      "Moving Averages: [1.1666666666666667, 1.3, 1.4333333333333333]\n"
     ]
    }
   ],
   "source": [
    "prices = [1.0, 1.2, 1.3, 1.4, 1.6]\n",
    "window_size = 3\n",
    "moving_averages = []\n",
    "\n",
    "i = 0\n",
    "while i <= len(prices) - window_size:\n",
    "    window = prices[i:i + window_size]\n",
    "    average = sum(window) / window_size\n",
    "    moving_averages.append(average)\n",
    "    i += 1\n",
    "\n",
    "print(f\"Moving Averages: {moving_averages}\")\n"
   ]
  },
  {
   "cell_type": "markdown",
   "id": "81c4e763",
   "metadata": {},
   "source": [
    "### Count Profitable Days on DEX\n",
    " Description: Count the number of days a trader had a positive return on a DEX.\n",
    " Input: List of daily PnL (e.g., [0.03, -0.02, 0.01, 0.04, -0.01])\n",
    " Output: Number of profitable days (e.g., 3 days)"
   ]
  },
  {
   "cell_type": "code",
   "execution_count": 2,
   "id": "92996a3f",
   "metadata": {},
   "outputs": [
    {
     "name": "stdout",
     "output_type": "stream",
     "text": [
      "Number of profitable days: 3\n"
     ]
    }
   ],
   "source": [
    "list_of_daily_pnl = [0.03, -0.02, 0.01, 0.04, -0.01]\n",
    "profitable_days = 0\n",
    "for pnl in list_of_daily_pnl:\n",
    "    if pnl > 0:\n",
    "        profitable_days += 1\n",
    "print(f\"Number of profitable days: {profitable_days}\")"
   ]
  },
  {
   "cell_type": "markdown",
   "id": "5e56a79d",
   "metadata": {},
   "source": [
    "### Average Number of Tokens Held\n",
    " Description: Calculate the average number of tokens held across wallets.\n",
    " Input: List of token holdings per wallet (e.g., [100, 200, 150, 300])\n",
    " Output: Average tokens held (e.g., 187.5)"
   ]
  },
  {
   "cell_type": "code",
   "execution_count": 3,
   "id": "b5ad8ebe",
   "metadata": {},
   "outputs": [
    {
     "name": "stdout",
     "output_type": "stream",
     "text": [
      "Average tokens held: 187.5\n"
     ]
    }
   ],
   "source": [
    "list_of_token_holdings = [100, 200, 150, 300]\n",
    "total_tokens = 0\n",
    "for tokens in list_of_token_holdings:\n",
    "    total_tokens += tokens\n",
    "average_tokens = total_tokens / len(list_of_token_holdings)\n",
    "print(f\"Average tokens held: {average_tokens}\")"
   ]
  },
  {
   "cell_type": "markdown",
   "id": "64c0f761",
   "metadata": {},
   "source": [
    "### Wallets Above Holding Threshold\n",
    " Description: Count the number of wallets holding more than 100 tokens.\n",
    " Input: List of holdings (e.g., [50, 150, 120, 80, 200])\n",
    " Output: Number of wallets above threshold (e.g., 3 wallets)"
   ]
  },
  {
   "cell_type": "code",
   "execution_count": 4,
   "id": "88e40189",
   "metadata": {},
   "outputs": [
    {
     "name": "stdout",
     "output_type": "stream",
     "text": [
      "Number of wallets above threshold: 3\n"
     ]
    }
   ],
   "source": [
    "list_of_holdings = [50, 150, 120, 80, 200]\n",
    "wallets_above_threshold = 0\n",
    "for holding in list_of_holdings:\n",
    "    if holding > 100:\n",
    "        wallets_above_threshold += 1\n",
    "print(f\"Number of wallets above threshold: {wallets_above_threshold}\")"
   ]
  },
  {
   "cell_type": "markdown",
   "id": "6b956ff0",
   "metadata": {},
   "source": [
    "### Total Gas Spent by Wallets\n",
    " Description: Calculate total gas used by multiple wallets across transactions.\n",
    " Input: List of gas used per wallet (e.g., [21000, 50000, 32000])\n",
    " Output: Total gas used (e.g., 103000)"
   ]
  },
  {
   "cell_type": "code",
   "execution_count": 6,
   "id": "a5188979",
   "metadata": {},
   "outputs": [
    {
     "name": "stdout",
     "output_type": "stream",
     "text": [
      "Total gas used: 448000\n"
     ]
    }
   ],
   "source": [
    "List_of_gas_used = [21000, 50000, 32000, 45000, 60000, 70000,  80000, 90000]\n",
    "total_gas_used = 0\n",
    "for gas in List_of_gas_used:\n",
    "    total_gas_used += gas\n",
    "print(f\"Total gas used: {total_gas_used}\")"
   ]
  },
  {
   "cell_type": "markdown",
   "id": "db9e6622",
   "metadata": {},
   "source": [
    "### Cumulative Token Airdrop\n",
    " Description: Calculate the total tokens distributed in an airdrop across multiple addresses.\n",
    " Input: List of airdrop amounts (e.g., [50, 75, 100, 25])\n",
    " Output: Total tokens distributed (e.g., 250)\n"
   ]
  },
  {
   "cell_type": "code",
   "execution_count": 7,
   "id": "0b973bcd",
   "metadata": {},
   "outputs": [
    {
     "name": "stdout",
     "output_type": "stream",
     "text": [
      "Cumulative airdrop amount: 8130\n"
     ]
    }
   ],
   "source": [
    "list_pf_airdrop_amounts = [50, 75, 100, 25, 60, 80, 90, 110, 120, 130, 140, 150, 160, 170, 180, 190, 200, 210, 220, 230, 240, 250, 260, 270, 280, 290, 300, 310, 320, 330, 340, 350, 360, 370, 380, 390, 400]\n",
    "cumulative_airdrop = 0\n",
    "for amount in list_pf_airdrop_amounts:\n",
    "    cumulative_airdrop += amount\n",
    "print(f\"Cumulative airdrop amount: {cumulative_airdrop}\")"
   ]
  },
  {
   "cell_type": "markdown",
   "id": "fdd3cfe5",
   "metadata": {},
   "source": [
    "### Average Bridge Fee Across Chains\n",
    " Description: Find the average fee users pay when bridging tokens across chains.\n",
    " Input: List of fees (e.g., [1.2, 0.8, 1.0, 1.5])\n",
    " Output: Average fee (e.g., 1.125)"
   ]
  },
  {
   "cell_type": "code",
   "execution_count": 8,
   "id": "4d92614b",
   "metadata": {},
   "outputs": [
    {
     "name": "stdout",
     "output_type": "stream",
     "text": [
      "Average bridge fee: 1.125\n"
     ]
    }
   ],
   "source": [
    "list_of_fees = [1.2, 0.8, 1.0, 1.5]\n",
    "total_fee = 0\n",
    "for fee in list_of_fees:\n",
    "    total_fee += fee\n",
    "average_fee = total_fee / len(list_of_fees)\n",
    "print(f\"Average bridge fee: {average_fee}\")"
   ]
  },
  {
   "cell_type": "markdown",
   "id": "93f210c1",
   "metadata": {},
   "source": [
    "## CONDITIONAL STATEMENTS (Decision-making problems)"
   ]
  },
  {
   "cell_type": "markdown",
   "id": "66c7c52c",
   "metadata": {},
   "source": [
    "### Token Price Classification\n",
    " Description: Classify a token’s price movement as “Bullish” if it increased, “Bearish” if decreased.\n",
    " Input: Previous price (e.g., 2.0), Current price (e.g., 2.3)\n",
    " Output: Bullish"
   ]
  },
  {
   "cell_type": "code",
   "execution_count": 9,
   "id": "ff5cd05f",
   "metadata": {},
   "outputs": [
    {
     "name": "stdout",
     "output_type": "stream",
     "text": [
      "Bullish\n"
     ]
    }
   ],
   "source": [
    "Previous_price = 2.0\n",
    "Current_price = 2.3\n",
    "if Current_price > Previous_price:\n",
    "    print(\"Bullish\")\n",
    "elif Current_price < Previous_price:\n",
    "    print(\"Bearish\")\n",
    "else:\n",
    "    print(\"Neutral\")    "
   ]
  },
  {
   "cell_type": "markdown",
   "id": "9aa48164",
   "metadata": {},
   "source": [
    "### Gas Fee Alert System\n",
    " Description: Alert if Ethereum gas fee exceeds a given threshold (e.g., 100 Gwei).\n",
    " Input: Gas fee (e.g., 120)\n",
    " Output: \"High gas fee alert!\""
   ]
  },
  {
   "cell_type": "code",
   "execution_count": 10,
   "id": "4c27ffbc",
   "metadata": {},
   "outputs": [
    {
     "name": "stdout",
     "output_type": "stream",
     "text": [
      "High gas fee alert!\n"
     ]
    }
   ],
   "source": [
    "Gas_fee = input(\"Enter the current gas fee in Gwei: \")\n",
    "threshold = 100\n",
    "if int(Gas_fee) > threshold:\n",
    "    print(\"High gas fee alert!\")\n",
    "else:\n",
    "    print(\"Gas fee is within acceptable range.\")    "
   ]
  },
  {
   "cell_type": "markdown",
   "id": "6ac6e86f",
   "metadata": {},
   "source": [
    "### Detect Whale Wallet\n",
    " Description: Identify if a wallet is a whale based on token balance (>10,000 tokens).\n",
    " Input: Token balance (e.g., 15,000)\n",
    " Output: Whale wallet"
   ]
  },
  {
   "cell_type": "code",
   "execution_count": 13,
   "id": "3cc5d05c",
   "metadata": {},
   "outputs": [
    {
     "name": "stdout",
     "output_type": "stream",
     "text": [
      "A Fish wallet\n"
     ]
    }
   ],
   "source": [
    "Token_balance = input(\"Enter the token balance: \")\n",
    "if int(Token_balance) > 10000:\n",
    "    print(\"Whale wallet\")\n",
    "elif int(Token_balance) > 1000:\n",
    "    print(\"A Shark wallet\")\n",
    "elif int(Token_balance) > 100:\n",
    "    print(\"A Dolphin wallet\")\n",
    "else:\n",
    "    print(\"A Fish wallet\")  "
   ]
  },
  {
   "cell_type": "markdown",
   "id": "e54d1881",
   "metadata": {},
   "source": [
    "### Token Transfer Flag\n",
    " Description: Flag a transaction as “Suspicious” if the amount is above 1 million tokens.\n",
    " Input: Transfer amount (e.g., 1,200,000)\n",
    " Output: Suspicious"
   ]
  },
  {
   "cell_type": "code",
   "execution_count": 14,
   "id": "6ec129b0",
   "metadata": {},
   "outputs": [
    {
     "name": "stdout",
     "output_type": "stream",
     "text": [
      "Transaction is normal\n"
     ]
    }
   ],
   "source": [
    "Transfer_amount = input(\"Enter the transfer amount: \")\n",
    "if int(Transfer_amount) > 1000000:\n",
    "    print(\"Suspicious transaction\")\n",
    "else:\n",
    "    print(\"Transaction is normal\")"
   ]
  },
  {
   "cell_type": "markdown",
   "id": "23e84c87",
   "metadata": {},
   "source": [
    "### DEX Slippage Warning\n",
    " Description: Warn users if the slippage is greater than 5%.\n",
    " Input: Slippage percentage (e.g., 6.5)\n",
    " Output: \"High slippage detected\""
   ]
  },
  {
   "cell_type": "code",
   "execution_count": 16,
   "id": "27bb636a",
   "metadata": {},
   "outputs": [
    {
     "name": "stdout",
     "output_type": "stream",
     "text": [
      "High slippage detected\n"
     ]
    }
   ],
   "source": [
    "Slippage_percentage = 6.5\n",
    "if Slippage_percentage > 5:\n",
    "    print(\"High slippage detected\")\n",
    "else:\n",
    "    print(\"Slippage is within acceptable range\")"
   ]
  },
  {
   "cell_type": "markdown",
   "id": "ea97a8dd",
   "metadata": {},
   "source": [
    "### NFT Mint Status Check\n",
    " Description: Check if an NFT is sold out or available for mint.\n",
    " Input: Total supply (e.g., 10,000), Minted count (e.g., 10,000)\n",
    " Output: Sold Out\n"
   ]
  },
  {
   "cell_type": "code",
   "execution_count": 19,
   "id": "41e529bd",
   "metadata": {},
   "outputs": [
    {
     "name": "stdout",
     "output_type": "stream",
     "text": [
      "Available for mint\n",
      "9000 NFTs are still available for minting\n"
     ]
    }
   ],
   "source": [
    "Total_supply = 10000\n",
    "Minted_count = 1000\n",
    "if Minted_count >= Total_supply:\n",
    "    print(\"Sold Out\")\n",
    "else:\n",
    "    print(\"Available for mint\")\n",
    "    print(f\"{Total_supply - Minted_count} NFTs are still available for minting\")"
   ]
  },
  {
   "cell_type": "markdown",
   "id": "c59af201",
   "metadata": {},
   "source": [
    "### Stablecoin Health Check\n",
    " Description: Determine if a stablecoin is depegged (if price deviates from $1 by more than ±5%).\n",
    " Input: Stablecoin price (e.g., 0.93)\n",
    " Output: Depegged"
   ]
  },
  {
   "cell_type": "code",
   "execution_count": 20,
   "id": "5c47dc92",
   "metadata": {},
   "outputs": [
    {
     "name": "stdout",
     "output_type": "stream",
     "text": [
      "Depegged\n"
     ]
    }
   ],
   "source": [
    "Stablecoin_price = 0.93\n",
    "if Stablecoin_price < 0.95 or Stablecoin_price > 1.05:\n",
    "    print(\"Depegged\")\n",
    "else:\n",
    "    print(\"Stablecoin is pegged to $1\") "
   ]
  },
  {
   "cell_type": "markdown",
   "id": "2284c4db",
   "metadata": {},
   "source": [
    "### Reward Eligibility\n",
    " Description: Check if a user qualifies for staking rewards (must stake ≥ 500 tokens).\n",
    " Input: Tokens staked (e.g., 300)\n",
    " Output: Not eligible"
   ]
  },
  {
   "cell_type": "code",
   "execution_count": 21,
   "id": "54299296",
   "metadata": {},
   "outputs": [
    {
     "name": "stdout",
     "output_type": "stream",
     "text": [
      "Eligible for staking rewards\n"
     ]
    }
   ],
   "source": [
    "Tokens_staked = input(\"Enter the number of tokens staked: \")\n",
    "if int(Tokens_staked) >= 500:\n",
    "    print(\"Eligible for staking rewards\")\n",
    "else:\n",
    "    print(\"Not eligible for staking rewards\")\n"
   ]
  },
  {
   "cell_type": "markdown",
   "id": "244d0bd2",
   "metadata": {},
   "source": [
    "### Airdrop Eligibility\n",
    " Description: Check if a wallet is eligible for airdrop (must hold a specific token and have at least 5 transactions).\n",
    " Input: Holdings (e.g., 100), Number of transactions (e.g., 6)\n",
    " Output: Eligible"
   ]
  },
  {
   "cell_type": "code",
   "execution_count": 23,
   "id": "b670f7ad",
   "metadata": {},
   "outputs": [
    {
     "name": "stdout",
     "output_type": "stream",
     "text": [
      "Eligible for airdrop\n"
     ]
    }
   ],
   "source": [
    "Specific_tokens_to_check = [\"ETH\", \"BTC\", \"SOL\", \"USDC\", \"BNB\", \"ADA\", \"XRP\", \"DOT\", \"DOGE\", \"MATIC\"]\n",
    "Specific_tokens_holdings = input(\"Enter the specific tokens held (comma-separated): \").split(\",\")\n",
    "Number_of_transactions = int(input(\"Enter the number of transactions: \"))\n",
    "if any(token in Specific_tokens_to_check for token in Specific_tokens_holdings) and Number_of_transactions >= 5:\n",
    "    print(\"Eligible for airdrop\")\n",
    "else:\n",
    "    print(\"Not eligible for airdrop\")"
   ]
  },
  {
   "cell_type": "markdown",
   "id": "c96f5f52",
   "metadata": {},
   "source": [
    "### Transaction Fee Efficiency\n",
    " Description: Flag if a transaction fee is greater than 5% of transaction amount.\n",
    " Input: Fee (e.g., 3), Transaction amount (e.g., 50)\n",
    " Output: Efficient\n"
   ]
  },
  {
   "cell_type": "code",
   "execution_count": 25,
   "id": "ea823f0a",
   "metadata": {},
   "outputs": [
    {
     "name": "stdout",
     "output_type": "stream",
     "text": [
      "Transaction fee is within acceptable range\n",
      "Efficient transaction fee\n",
      "Transaction fee is 7.0 and transaction amount is 5677.0\n",
      "Transaction fee percentage is 0.123%\n"
     ]
    }
   ],
   "source": [
    "transaction_amount = float(input(\"Enter the transaction amount: \"))\n",
    "transaction_fee = float(input(\"Enter the transaction fee: \"))\n",
    "if transaction_fee > 0.05 * transaction_amount:\n",
    "    print(\"Transaction fee is greater than 5% of the transaction amount\")\n",
    "else:\n",
    "    print(\"Transaction fee is within acceptable range\")\n",
    "    print(\"Efficient transaction fee\")\n",
    "    print(f\"Transaction fee is {transaction_fee} and transaction amount is {transaction_amount}\")\n",
    "    print(f\"Transaction fee percentage is {transaction_fee / transaction_amount * 100:.3f}%\")"
   ]
  }
 ],
 "metadata": {
  "kernelspec": {
   "display_name": "Problem-Solver",
   "language": "python",
   "name": "python3"
  },
  "language_info": {
   "codemirror_mode": {
    "name": "ipython",
    "version": 3
   },
   "file_extension": ".py",
   "mimetype": "text/x-python",
   "name": "python",
   "nbconvert_exporter": "python",
   "pygments_lexer": "ipython3",
   "version": "3.13.5"
  }
 },
 "nbformat": 4,
 "nbformat_minor": 5
}
