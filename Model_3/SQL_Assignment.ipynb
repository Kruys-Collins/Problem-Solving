{
 "cells": [
  {
   "cell_type": "markdown",
   "id": "9153f8b5",
   "metadata": {},
   "source": [
    "## Crypto Price Analysis Using SQLite and Python\n",
    "### Business Questions\n",
    "This project aims to answer key questions relevant to cryptocurrency price analysis:\n",
    "\n",
    "- What is the average price for each coin over the last 5 days?\n",
    "\n",
    "- What is the highest price recorded for each coin?\n",
    "\n",
    "- Which coin had the largest price increase over the period?\n",
    "\n",
    "- What is the price volatility (standard deviation) for each coin?\n",
    "\n",
    "- Which coin had the lowest average price?\n",
    "\n",
    "These questions help investors and analysts evaluate performance, risk, and potential value across different cryptocurrencies."
   ]
  },
  {
   "cell_type": "markdown",
   "id": "158795ec",
   "metadata": {},
   "source": [
    "### Step 1: Import Required Libraries"
   ]
  },
  {
   "cell_type": "code",
   "execution_count": null,
   "id": "8d12cffe",
   "metadata": {},
   "outputs": [
    {
     "ename": "",
     "evalue": "",
     "output_type": "error",
     "traceback": [
      "\u001b[1;31mFailed to start the Kernel. \n",
      "\u001b[1;31mUnable to start Kernel '.venv (Python 3.12.11)' due to a timeout waiting for the ports to get used. \n",
      "\u001b[1;31mView Jupyter <a href='command:jupyter.viewOutput'>log</a> for further details."
     ]
    }
   ],
   "source": [
    "import sqlite3\n",
    "import pandas as pd\n",
    "from datetime import datetime, timedelta\n"
   ]
  }
 ],
 "metadata": {
  "kernelspec": {
   "display_name": ".venv",
   "language": "python",
   "name": "python3"
  },
  "language_info": {
   "name": "python",
   "version": "3.12.11"
  }
 },
 "nbformat": 4,
 "nbformat_minor": 5
}
