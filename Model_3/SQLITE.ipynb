{
 "cells": [
  {
   "cell_type": "markdown",
   "id": "2d6b2f20",
   "metadata": {},
   "source": [
    "### SQL BASIC\n",
    "#### What is SQL?\n",
    "SQL (Structured Query Language) is a language used to manage data in relational databases.\n",
    "\n",
    "Think of it like Excel formulas but for databases – it lets you create, read, update, and delete data in a structured way.\n",
    "\n",
    "Documentation\n",
    "Link to: sqlite3\n",
    "\n",
    "Core SQL Commands\n",
    "Here are the four essential SQL commands (often called CRUD operations):\n",
    "\n",
    "### SELECT – Read data"
   ]
  },
  {
   "cell_type": "code",
   "execution_count": 1,
   "id": "90cdf40c",
   "metadata": {
    "vscode": {
     "languageId": "sql"
    }
   },
   "outputs": [
    {
     "ename": "SyntaxError",
     "evalue": "invalid character '—' (U+2014) (1583808109.py, line 3)",
     "output_type": "error",
     "traceback": [
      "  \u001b[36mCell\u001b[39m\u001b[36m \u001b[39m\u001b[32mIn[1]\u001b[39m\u001b[32m, line 3\u001b[39m\n\u001b[31m    \u001b[39m\u001b[31mSELECT name, price FROM coins WHERE price > 100; — Gets specific columns with a condition\u001b[39m\n                                                     ^\n\u001b[31mSyntaxError\u001b[39m\u001b[31m:\u001b[39m invalid character '—' (U+2014)\n"
     ]
    }
   ],
   "source": [
    "SELECT * FROM coins; -- Gets all data from coins table\n",
    "\n",
    "SELECT name, price FROM coins WHERE price > 100; — Gets specific columns with a condition"
   ]
  },
  {
   "cell_type": "markdown",
   "id": "f36b6e2a",
   "metadata": {},
   "source": [
    "### INSERT NEW RECORDS"
   ]
  },
  {
   "cell_type": "code",
   "execution_count": null,
   "id": "432bc3c6",
   "metadata": {
    "vscode": {
     "languageId": "sql"
    }
   },
   "outputs": [],
   "source": [
    "INSERT INTO coins VALUES ('Bitcoin', 50000); — Adds a new row\n",
    "\n",
    "INSERT INTO coins (name, price) VALUES ('Ethereum', 3000); — Adds to specific columns"
   ]
  },
  {
   "cell_type": "markdown",
   "id": "3e0b3883",
   "metadata": {},
   "source": [
    "#### UPDATE – Modify Existing Records"
   ]
  },
  {
   "cell_type": "code",
   "execution_count": null,
   "id": "b7b7984b",
   "metadata": {
    "vscode": {
     "languageId": "sql"
    }
   },
   "outputs": [],
   "source": [
    "UPDATE coins SET price = 51000 WHERE name = 'Bitcoin'; \n",
    "-- Changes Bitcoin's price\n"
   ]
  },
  {
   "cell_type": "markdown",
   "id": "38093f7c",
   "metadata": {},
   "source": [
    "#### DELETE – Remove Records"
   ]
  },
  {
   "cell_type": "code",
   "execution_count": null,
   "id": "b1f4dff6",
   "metadata": {
    "vscode": {
     "languageId": "sql"
    }
   },
   "outputs": [],
   "source": [
    "DELETE FROM coins WHERE price < 10; \n",
    "-- Deletes all cheap coins\n"
   ]
  },
  {
   "cell_type": "markdown",
   "id": "a8fe4542",
   "metadata": {},
   "source": [
    "### Setting Up a Simple SQLite3 Database in Python\n",
    "This tutorial creates a simple database to track cryptocurrencies.\n",
    "\n",
    "Install pandas (if needed)"
   ]
  },
  {
   "cell_type": "code",
   "execution_count": null,
   "id": "b294f101",
   "metadata": {},
   "outputs": [],
   "source": [
    "import pandas as pd"
   ]
  },
  {
   "cell_type": "code",
   "execution_count": null,
   "id": "c906548d",
   "metadata": {},
   "outputs": [
    {
     "name": "stdout",
     "output_type": "stream",
     "text": [
      "Database file does not exist.\n"
     ]
    }
   ],
   "source": [
    "import sqlite3\n",
    "import os\n",
    "\n",
    "db_path = \"crypto.db\"\n",
    "\n",
    "if os.path.exists(db_path):\n",
    "    os.remove(db_path)\n",
    "    print(\"Database file deleted.\")\n",
    "else:\n",
    "    print(\"Database file does not exist.\")\n"
   ]
  },
  {
   "cell_type": "code",
   "execution_count": null,
   "id": "f764c177",
   "metadata": {},
   "outputs": [
    {
     "name": "stdout",
     "output_type": "stream",
     "text": [
      "Table 'coins' created successfully.\n"
     ]
    }
   ],
   "source": [
    "# Create or connect to a database file\n",
    "conn = sqlite3.connect(db_path)\n",
    "\n",
    "# Create a cursor object to execute SQL commands\n",
    "cursor = conn.cursor()\n",
    "\n",
    "# Create a table\n",
    "cursor.execute(\"\"\"\n",
    "CREATE TABLE IF NOT EXISTS coins (\n",
    "    id INTEGER PRIMARY KEY AUTOINCREMENT,\n",
    "    name TEXT NOT NULL,\n",
    "    symbol TEXT NOT NULL,\n",
    "    price REAL,\n",
    "    market_cap REAL,\n",
    "    last_updated TIMESTAMP DEFAULT CURRENT_TIMESTAMP\n",
    ")\n",
    "\"\"\")\n",
    "\n",
    "# Save (commit) the changes\n",
    "conn.commit()\n",
    "print(\"Table 'coins' created successfully.\")\n"
   ]
  },
  {
   "cell_type": "markdown",
   "id": "03c9e01a",
   "metadata": {},
   "source": [
    "Inserting Data"
   ]
  },
  {
   "cell_type": "code",
   "execution_count": null,
   "id": "bb474317",
   "metadata": {},
   "outputs": [],
   "source": [
    "# Insert single record\n",
    "cursor.execute(\"\"\"\n",
    "INSERT INTO coins (name, symbol, price, market_cap)\n",
    "VALUES ('Bitcoin', 'BTC', 50000, 950000000000)\n",
    "\"\"\")\n",
    "\n",
    "# Insert multiple records\n",
    "coins = [\n",
    "    ('Ethereum', 'ETH', 3000, 350000000000),\n",
    "    ('Cardano', 'ADA', 1.5, 50000000000),\n",
    "    ('Solana', 'SOL', 150, 50000000000)\n",
    "]\n",
    "\n",
    "cursor.executemany(\"\"\"\n",
    "INSERT INTO coins (name, symbol, price, market_cap)\n",
    "VALUES (?, ?, ?, ?)\n",
    "\"\"\", coins)\n",
    "\n",
    "conn.commit()\n"
   ]
  },
  {
   "cell_type": "markdown",
   "id": "aedae3a0",
   "metadata": {},
   "source": [
    "### Querying Data"
   ]
  },
  {
   "cell_type": "code",
   "execution_count": null,
   "id": "317d128b",
   "metadata": {},
   "outputs": [
    {
     "name": "stdout",
     "output_type": "stream",
     "text": [
      "All coins: [(1, 'Bitcoin', 'BTC', 50000.0, 950000000000.0, '2025-08-20 15:29:47'), (2, 'Ethereum', 'ETH', 3000.0, 350000000000.0, '2025-08-20 15:29:47'), (3, 'Cardano', 'ADA', 1.5, 50000000000.0, '2025-08-20 15:29:47'), (4, 'Solana', 'SOL', 150.0, 50000000000.0, '2025-08-20 15:29:47')]\n",
      "Bitcoin data: (1, 'Bitcoin', 'BTC', 50000.0, 950000000000.0, '2025-08-20 15:29:47')\n",
      "Expensive coins: [('Bitcoin', 50000.0), ('Ethereum', 3000.0), ('Solana', 150.0)]\n"
     ]
    }
   ],
   "source": [
    "# Get all coins\n",
    "cursor.execute(\"SELECT * FROM coins\")\n",
    "all_coins = cursor.fetchall()  # Get all results as a list of tuples\n",
    "print(\"All coins:\", all_coins)\n",
    "\n",
    "# Get one coin\n",
    "cursor.execute(\"SELECT * FROM coins WHERE symbol = 'BTC'\")\n",
    "bitcoin = cursor.fetchone()  # Get just the first result\n",
    "print(\"Bitcoin data:\", bitcoin)\n",
    "\n",
    "# Get specific columns with a condition\n",
    "cursor.execute(\"SELECT name, price FROM coins WHERE price > 100\")\n",
    "expensive_coins = cursor.fetchall()\n",
    "print(\"Expensive coins:\", expensive_coins)\n"
   ]
  },
  {
   "cell_type": "markdown",
   "id": "f6386a40",
   "metadata": {},
   "source": [
    "### Updating and Deleting"
   ]
  },
  {
   "cell_type": "code",
   "execution_count": null,
   "id": "f6a27070",
   "metadata": {},
   "outputs": [],
   "source": [
    "# Update Bitcoin's price\n",
    "cursor.execute(\"UPDATE coins SET price = 51000 WHERE symbol = 'BTC'\")\n",
    "conn.commit()\n",
    "\n",
    "# Delete cheap coins\n",
    "cursor.execute(\"DELETE FROM coins WHERE price < 2\")\n",
    "conn.commit()\n"
   ]
  },
  {
   "cell_type": "markdown",
   "id": "c9c84a9f",
   "metadata": {},
   "source": [
    "### Using Context Managers (Best Practice)"
   ]
  },
  {
   "cell_type": "code",
   "execution_count": null,
   "id": "878ff34b",
   "metadata": {},
   "outputs": [
    {
     "name": "stdout",
     "output_type": "stream",
     "text": [
      "[(1, 'Bitcoin', 'BTC', 51000.0, 950000000000.0, '2025-08-20 15:29:47'), (2, 'Ethereum', 'ETH', 3000.0, 350000000000.0, '2025-08-20 15:29:47'), (4, 'Solana', 'SOL', 150.0, 50000000000.0, '2025-08-20 15:29:47')]\n"
     ]
    }
   ],
   "source": [
    "# This automatically handles opening and closing the connection\n",
    "with sqlite3.connect(db_path) as conn:\n",
    "    cursor = conn.cursor()\n",
    "    cursor.execute(\"SELECT * FROM coins\")\n",
    "    print(cursor.fetchall())\n",
    "# No need to manually close - it's handled by the 'with' block\n"
   ]
  },
  {
   "cell_type": "markdown",
   "id": "ceea8498",
   "metadata": {},
   "source": [
    "### Pandas + SQL Integration"
   ]
  },
  {
   "cell_type": "code",
   "execution_count": null,
   "id": "95dded42",
   "metadata": {},
   "outputs": [
    {
     "name": "stdout",
     "output_type": "stream",
     "text": [
      "DataFrame from SQL:\n",
      "   id      name symbol    price    market_cap         last_updated\n",
      "0   1   Bitcoin    BTC  51000.0  9.500000e+11  2025-08-20 15:29:47\n",
      "1   2  Ethereum    ETH   3000.0  3.500000e+11  2025-08-20 15:29:47\n",
      "2   4    Solana    SOL    150.0  5.000000e+10  2025-08-20 15:29:47\n"
     ]
    }
   ],
   "source": [
    "import pandas as pd\n",
    "\n",
    "with sqlite3.connect(db_path) as conn:\n",
    "    # Read SQL query directly into a DataFrame\n",
    "    df = pd.read_sql(\"SELECT * FROM coins\", conn)\n",
    "\n",
    "print(\"DataFrame from SQL:\")\n",
    "print(df.head())\n"
   ]
  },
  {
   "cell_type": "markdown",
   "id": "63ed9e8b",
   "metadata": {},
   "source": [
    "### Writing Pandas to SQL"
   ]
  },
  {
   "cell_type": "code",
   "execution_count": null,
   "id": "2ed55fa5",
   "metadata": {},
   "outputs": [
    {
     "name": "stdout",
     "output_type": "stream",
     "text": [
      "\n",
      "New coins table:\n",
      "       name symbol  price  market_cap\n",
      "0  Polkadot    DOT   7.50   750000000\n",
      "1   Polygon  MATIC   0.75   500000000\n"
     ]
    }
   ],
   "source": [
    "# Create a new DataFrame\n",
    "new_coins = pd.DataFrame({\n",
    "    'name': ['Polkadot', 'Polygon'],\n",
    "    'symbol': ['DOT', 'MATIC'],\n",
    "    'price': [7.5, 0.75],\n",
    "    'market_cap': [750000000, 500000000]\n",
    "})\n",
    "\n",
    "with sqlite3.connect(db_path) as conn:\n",
    "    # Write the DataFrame to a new SQL table\n",
    "    new_coins.to_sql(\"new_coins\", conn, index=False, if_exists='replace')\n",
    "\n",
    "    # Verify it worked\n",
    "    df_new = pd.read_sql(\"SELECT * FROM new_coins\", conn)\n",
    "    print(\"\\nNew coins table:\")\n",
    "    print(df_new)\n"
   ]
  },
  {
   "cell_type": "markdown",
   "id": "28b4117e",
   "metadata": {},
   "source": [
    "### Analyzing SQL Data With Pandas"
   ]
  },
  {
   "cell_type": "code",
   "execution_count": null,
   "id": "6cf3ee2b",
   "metadata": {},
   "outputs": [
    {
     "name": "stdout",
     "output_type": "stream",
     "text": [
      "\n",
      "Basic statistics:\n",
      "             id         price    market_cap\n",
      "count  3.000000      3.000000  3.000000e+00\n",
      "mean   2.333333  18050.000000  4.500000e+11\n",
      "std    1.527525  28571.095534  4.582576e+11\n",
      "min    1.000000    150.000000  5.000000e+10\n",
      "25%    1.500000   1575.000000  2.000000e+11\n",
      "50%    2.000000   3000.000000  3.500000e+11\n",
      "75%    3.000000  27000.000000  6.500000e+11\n",
      "max    4.000000  51000.000000  9.500000e+11\n",
      "\n",
      "Average price: 18050.0\n",
      "Total market cap: 1350000000000.0\n",
      "\n",
      "Expensive coins:\n",
      "       name    price\n",
      "0   Bitcoin  51000.0\n",
      "1  Ethereum   3000.0\n",
      "2    Solana    150.0\n"
     ]
    }
   ],
   "source": [
    "with sqlite3.connect(db_path) as conn:\n",
    "    df = pd.read_sql(\"SELECT * FROM coins\", conn)\n",
    "\n",
    "# Now you can use all pandas operations\n",
    "print(\"\\nBasic statistics:\")\n",
    "print(df.describe())\n",
    "\n",
    "print(\"\\nAverage price:\", df['price'].mean())\n",
    "print(\"Total market cap:\", df['market_cap'].sum())\n",
    "\n",
    "# Filter with pandas\n",
    "expensive = df[df['price'] > 100]\n",
    "print(\"\\nExpensive coins:\")\n",
    "print(expensive[['name', 'price']])\n"
   ]
  },
  {
   "cell_type": "markdown",
   "id": "06294ec9",
   "metadata": {},
   "source": [
    "### Joins & Relationships\n",
    "\n",
    "#### Understanding Table Relationships\n",
    "\n",
    "In real databases, data is often split across multiple related tables. For example: coins table: coin_id, name, symbol prices table: price_id, coin_id, price, date\n",
    "\n",
    "#### Creating Related Tables"
   ]
  },
  {
   "cell_type": "code",
   "execution_count": null,
   "id": "cb67e8da",
   "metadata": {},
   "outputs": [],
   "source": [
    "with sqlite3.connect(db_path) as conn:\n",
    "    cursor = conn.cursor()\n",
    "\n",
    "    # Create coins table\n",
    "    cursor.execute(\"DROP TABLE IF EXISTS coins\")\n",
    "    cursor.execute(\"\"\"\n",
    "    CREATE TABLE coins (\n",
    "        coin_id INTEGER PRIMARY KEY AUTOINCREMENT,\n",
    "        name TEXT NOT NULL,\n",
    "        symbol TEXT NOT NULL UNIQUE\n",
    "    )\n",
    "    \"\"\")\n",
    "\n",
    "    # Create prices table with foreign key\n",
    "    cursor.execute(\"\"\"\n",
    "    CREATE TABLE IF NOT EXISTS prices (\n",
    "        price_id INTEGER PRIMARY KEY AUTOINCREMENT,\n",
    "        coin_id INTEGER NOT NULL,\n",
    "        price REAL NOT NULL,\n",
    "        date TIMESTAMP DEFAULT CURRENT_TIMESTAMP,\n",
    "        FOREIGN KEY (coin_id) REFERENCES coins (coin_id)\n",
    "    )\n",
    "    \"\"\")\n",
    "        # Insert some data\n",
    "    cursor.execute(\"INSERT INTO coins (name, symbol) VALUES ('Bitcoin', 'BTC')\")\n",
    "    cursor.execute(\"INSERT INTO coins (name, symbol) VALUES ('Ethereum', 'ETH')\")\n",
    "\n",
    "    # Get the auto-generated IDs\n",
    "    eth_id = cursor.lastrowid  # This would actually get ETH's ID - in real code you'd need to query for BTC's ID\n",
    "    btc_id = eth_id - 1\n",
    "\n",
    "    # Insert price history\n",
    "    cursor.executemany(\"\"\"\n",
    "    INSERT INTO prices (coin_id, price)\n",
    "    VALUES (?, ?)\n",
    "    \"\"\", [\n",
    "        (btc_id, 50000),\n",
    "        (btc_id, 51000),\n",
    "        (eth_id, 3000),\n",
    "        (eth_id, 3100)\n",
    "    ])\n",
    "\n",
    "    conn.commit()\n"
   ]
  },
  {
   "cell_type": "markdown",
   "id": "ed7fd920",
   "metadata": {},
   "source": [
    "### PErforming Joins"
   ]
  },
  {
   "cell_type": "code",
   "execution_count": null,
   "id": "db1559fb",
   "metadata": {},
   "outputs": [
    {
     "name": "stdout",
     "output_type": "stream",
     "text": [
      "\n",
      "Coin prices with join:\n",
      "       name symbol    price                 date\n",
      "0   Bitcoin    BTC  50000.0  2025-08-21 07:10:00\n",
      "1   Bitcoin    BTC  51000.0  2025-08-21 07:10:00\n",
      "2  Ethereum    ETH   3000.0  2025-08-21 07:10:00\n",
      "3  Ethereum    ETH   3100.0  2025-08-21 07:10:00\n"
     ]
    }
   ],
   "source": [
    "with sqlite3.connect(db_path) as conn:\n",
    "    # Simple inner join\n",
    "    df = pd.read_sql(\"\"\"\n",
    "    SELECT c.name, c.symbol, p.price, p.date\n",
    "    FROM coins c\n",
    "    INNER JOIN prices p ON c.coin_id = p.coin_id\n",
    "    ORDER BY p.date DESC\n",
    "    \"\"\", conn)\n",
    "\n",
    "print(\"\\nCoin prices with join:\")\n",
    "print(df)\n"
   ]
  },
  {
   "cell_type": "code",
   "execution_count": null,
   "id": "bba0ec10",
   "metadata": {},
   "outputs": [
    {
     "name": "stdout",
     "output_type": "stream",
     "text": [
      "\n",
      "All coins with prices (if available):\n",
      "       name symbol    price                 date\n",
      "0   Bitcoin    BTC  50000.0  2025-08-21 07:10:00\n",
      "1   Bitcoin    BTC  51000.0  2025-08-21 07:10:00\n",
      "2  Ethereum    ETH   3000.0  2025-08-21 07:10:00\n",
      "3  Ethereum    ETH   3100.0  2025-08-21 07:10:00\n"
     ]
    }
   ],
   "source": [
    "# Example of LEFT JOIN (get all coins even if they have no prices)\n",
    "with sqlite3.connect(db_path) as conn:\n",
    "    df = pd.read_sql(\"\"\"\n",
    "    SELECT c.name, c.symbol, p.price, p.date\n",
    "    FROM coins c\n",
    "    LEFT JOIN prices p ON c.coin_id = p.coin_id\n",
    "    \"\"\", conn)\n",
    "\n",
    "print(\"\\nAll coins with prices (if available):\")\n",
    "print(df)\n"
   ]
  },
  {
   "cell_type": "markdown",
   "id": "a14acccc",
   "metadata": {},
   "source": [
    "### BEST Practices "
   ]
  },
  {
   "cell_type": "code",
   "execution_count": null,
   "id": "7d0a98e7",
   "metadata": {},
   "outputs": [],
   "source": [
    "# Use context managers (with statement)\n",
    "with sqlite3.connect(db_path) as conn:\n",
    "    df = pd.read_sql(\"\"\"\n",
    "    SELECT *\n",
    "    FROM coins c\n",
    "    \"\"\", conn)\n"
   ]
  },
  {
   "cell_type": "code",
   "execution_count": null,
   "id": "4064e8c7",
   "metadata": {},
   "outputs": [],
   "source": [
    "# Close connection with commit (if not using context manager)\n",
    "conn = sqlite3.connect(db_path)\n",
    "df = pd.read_sql(\"\"\"\n",
    "SELECT *\n",
    "FROM coins\n",
    "\"\"\", conn)\n",
    "conn.commit() #saving changes\n",
    "conn.close() #closing connection\n"
   ]
  },
  {
   "cell_type": "code",
   "execution_count": null,
   "id": "1519ec30",
   "metadata": {},
   "outputs": [
    {
     "name": "stdout",
     "output_type": "stream",
     "text": [
      "Indexes created.\n"
     ]
    }
   ],
   "source": [
    "# Index Frequent Columns to Improve Query Performance\n",
    "# Lets say you are frequently searching by \"symbol\" or \"name\" in the db\n",
    "\n",
    "conn = sqlite3.connect(db_path)\n",
    "cursor = conn.cursor()\n",
    "\n",
    "# Create an index on symbol\n",
    "cursor.execute(\"\"\"\n",
    "CREATE INDEX IF NOT EXISTS idx_coins_symbol ON coins(symbol);\n",
    "\"\"\")\n",
    "\n",
    "# Create an index on name\n",
    "cursor.execute(\"\"\"\n",
    "CREATE INDEX IF NOT EXISTS idx_coins_name ON coins(name);\n",
    "\"\"\")\n",
    "\n",
    "conn.commit()\n",
    "conn.close()\n",
    "print(\"Indexes created.\")\n"
   ]
  },
  {
   "cell_type": "code",
   "execution_count": null,
   "id": "ce6c236b",
   "metadata": {},
   "outputs": [
    {
     "name": "stdout",
     "output_type": "stream",
     "text": [
      "   coin_id     name symbol\n",
      "0        1  Bitcoin    BTC\n"
     ]
    }
   ],
   "source": [
    "with sqlite3.connect(db_path) as conn:\n",
    "    df = pd.read_sql(\"\"\"\n",
    "        SELECT *\n",
    "        FROM coins\n",
    "        WHERE symbol = 'BTC'\n",
    "    \"\"\", conn)\n",
    "\n",
    "print(df)\n"
   ]
  }
 ],
 "metadata": {
  "kernelspec": {
   "display_name": ".venv",
   "language": "python",
   "name": "python3"
  },
  "language_info": {
   "codemirror_mode": {
    "name": "ipython",
    "version": 3
   },
   "file_extension": ".py",
   "mimetype": "text/x-python",
   "name": "python",
   "nbconvert_exporter": "python",
   "pygments_lexer": "ipython3",
   "version": "3.12.11"
  }
 },
 "nbformat": 4,
 "nbformat_minor": 5
}
