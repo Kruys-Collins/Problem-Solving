{
 "cells": [
  {
   "cell_type": "markdown",
   "id": "2d6b2f20",
   "metadata": {},
   "source": [
    "### SQL BASIC\n",
    "#### What is SQL?\n",
    "SQL (Structured Query Language) is a language used to manage data in relational databases.\n",
    "\n",
    "Think of it like Excel formulas but for databases – it lets you create, read, update, and delete data in a structured way.\n",
    "\n",
    "Documentation\n",
    "Link to: sqlite3\n",
    "\n",
    "Core SQL Commands\n",
    "Here are the four essential SQL commands (often called CRUD operations):\n",
    "\n",
    "### SELECT – Read data"
   ]
  },
  {
   "cell_type": "code",
   "execution_count": null,
   "id": "90cdf40c",
   "metadata": {
    "vscode": {
     "languageId": "sql"
    }
   },
   "outputs": [
    {
     "ename": "",
     "evalue": "",
     "output_type": "error",
     "traceback": [
      "\u001b[1;31mFailed to start the Kernel. \n",
      "\u001b[1;31mUnable to start Kernel '.venv (Python 3.12.11)' due to a timeout waiting for the ports to get used. \n",
      "\u001b[1;31mView Jupyter <a href='command:jupyter.viewOutput'>log</a> for further details."
     ]
    }
   ],
   "source": [
    "SELECT * FROM coins; -- Gets all data from coins table\n",
    "\n",
    "SELECT name, price FROM coins WHERE price > 100; — Gets specific columns with a condition"
   ]
  },
  {
   "cell_type": "markdown",
   "id": "f36b6e2a",
   "metadata": {},
   "source": [
    "### INSERT NEW RECORDS"
   ]
  },
  {
   "cell_type": "code",
   "execution_count": null,
   "id": "432bc3c6",
   "metadata": {
    "vscode": {
     "languageId": "sql"
    }
   },
   "outputs": [],
   "source": [
    "INSERT INTO coins VALUES ('Bitcoin', 50000); — Adds a new row\n",
    "\n",
    "INSERT INTO coins (name, price) VALUES ('Ethereum', 3000); — Adds to specific columns"
   ]
  },
  {
   "cell_type": "markdown",
   "id": "3e0b3883",
   "metadata": {},
   "source": [
    "#### UPDATE – Modify Existing Records"
   ]
  },
  {
   "cell_type": "code",
   "execution_count": null,
   "id": "b7b7984b",
   "metadata": {
    "vscode": {
     "languageId": "sql"
    }
   },
   "outputs": [],
   "source": [
    "UPDATE coins SET price = 51000 WHERE name = 'Bitcoin'; \n",
    "-- Changes Bitcoin's price\n"
   ]
  },
  {
   "cell_type": "markdown",
   "id": "38093f7c",
   "metadata": {},
   "source": [
    "#### DELETE – Remove Records"
   ]
  },
  {
   "cell_type": "code",
   "execution_count": null,
   "id": "b1f4dff6",
   "metadata": {
    "vscode": {
     "languageId": "sql"
    }
   },
   "outputs": [],
   "source": [
    "DELETE FROM coins WHERE price < 10; \n",
    "-- Deletes all cheap coins\n"
   ]
  },
  {
   "cell_type": "markdown",
   "id": "a8fe4542",
   "metadata": {},
   "source": [
    "### Setting Up a Simple SQLite3 Database in Python\n",
    "This tutorial creates a simple database to track cryptocurrencies.\n",
    "\n",
    "Install pandas (if needed)"
   ]
  },
  {
   "cell_type": "code",
   "execution_count": null,
   "id": "df036e4c",
   "metadata": {},
   "outputs": [
    {
     "ename": "",
     "evalue": "",
     "output_type": "error",
     "traceback": [
      "\u001b[1;31mRunning cells with '.venv (Python 3.12.11)' requires the ipykernel package.\n",
      "\u001b[1;31mInstall 'ipykernel' into the Python environment. \n",
      "\u001b[1;31mCommand: '\"/Users/kruyscollins/Documents/Kruys Collins Codes/Problem Solving /.venv/bin/python\" -m pip install ipykernel -U --force-reinstall'"
     ]
    }
   ],
   "source": [
    "pip install pandas\n"
   ]
  },
  {
   "cell_type": "code",
   "execution_count": null,
   "id": "afdd00f0",
   "metadata": {},
   "outputs": [],
   "source": [
    "pip install pandas\n"
   ]
  }
 ],
 "metadata": {
  "kernelspec": {
   "display_name": ".venv",
   "language": "python",
   "name": "python3"
  },
  "language_info": {
   "name": "python",
   "version": "3.12.11"
  }
 },
 "nbformat": 4,
 "nbformat_minor": 5
}
