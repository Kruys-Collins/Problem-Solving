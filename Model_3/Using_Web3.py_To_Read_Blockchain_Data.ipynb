{
 "cells": [
  {
   "cell_type": "markdown",
   "id": "4661dad6",
   "metadata": {},
   "source": [
    "#### Gateway URL Endpoint\n",
    "\n",
    "In order to use web3.py, need a gateway to be able to talk and read the blockchain\n",
    "\n",
    "Remote Procedure Call (RPC) endpoint URL allows us to query the blockchain through a node that supports JSON-RPC calls\n",
    "\n",
    "Some endpoints are free, but may suffer from latency, limits, etc\n",
    "\n",
    "You are also able to run your own node and use this as gateway (not recommended unless production-grade app)\n",
    "\n",
    "For this course we will create free account for access to Infura node\n",
    "\n",
    "infura"
   ]
  },
  {
   "cell_type": "markdown",
   "id": "a5fce3da",
   "metadata": {},
   "source": [
    "#### Imports"
   ]
  },
  {
   "cell_type": "code",
   "execution_count": 1,
   "id": "404b4fe0",
   "metadata": {},
   "outputs": [
    {
     "name": "stdout",
     "output_type": "stream",
     "text": [
      "Collecting web3\n",
      "  Downloading web3-7.13.0-py3-none-any.whl.metadata (5.6 kB)\n",
      "Collecting dotenv\n",
      "  Downloading dotenv-0.9.9-py2.py3-none-any.whl.metadata (279 bytes)\n",
      "Requirement already satisfied: pandas in /Users/kruyscollins/Documents/Kruys Collins Codes/ProblemSolving/.venv/lib/python3.12/site-packages (2.3.2)\n",
      "Collecting matplotlib\n",
      "  Using cached matplotlib-3.10.5-cp312-cp312-macosx_11_0_arm64.whl.metadata (11 kB)\n",
      "Collecting eth-abi>=5.0.1 (from web3)\n",
      "  Downloading eth_abi-5.2.0-py3-none-any.whl.metadata (3.8 kB)\n",
      "Collecting eth-account>=0.13.6 (from web3)\n",
      "  Downloading eth_account-0.13.7-py3-none-any.whl.metadata (3.7 kB)\n",
      "Collecting eth-hash>=0.5.1 (from eth-hash[pycryptodome]>=0.5.1->web3)\n",
      "  Downloading eth_hash-0.7.1-py3-none-any.whl.metadata (4.2 kB)\n",
      "Collecting eth-typing>=5.0.0 (from web3)\n",
      "  Downloading eth_typing-5.2.1-py3-none-any.whl.metadata (3.2 kB)\n",
      "Collecting eth-utils>=5.0.0 (from web3)\n",
      "  Downloading eth_utils-5.3.0-py3-none-any.whl.metadata (5.7 kB)\n",
      "Collecting hexbytes>=1.2.0 (from web3)\n",
      "  Downloading hexbytes-1.3.1-py3-none-any.whl.metadata (3.3 kB)\n",
      "Collecting aiohttp>=3.7.4.post0 (from web3)\n",
      "  Downloading aiohttp-3.12.15-cp312-cp312-macosx_11_0_arm64.whl.metadata (7.7 kB)\n",
      "Collecting pydantic>=2.4.0 (from web3)\n",
      "  Downloading pydantic-2.11.7-py3-none-any.whl.metadata (67 kB)\n",
      "Requirement already satisfied: requests>=2.23.0 in /Users/kruyscollins/Documents/Kruys Collins Codes/ProblemSolving/.venv/lib/python3.12/site-packages (from web3) (2.32.5)\n",
      "Requirement already satisfied: typing-extensions>=4.0.1 in /Users/kruyscollins/Documents/Kruys Collins Codes/ProblemSolving/.venv/lib/python3.12/site-packages (from web3) (4.14.1)\n",
      "Collecting types-requests>=2.0.0 (from web3)\n",
      "  Downloading types_requests-2.32.4.20250809-py3-none-any.whl.metadata (2.0 kB)\n",
      "Collecting websockets<16.0.0,>=10.0.0 (from web3)\n",
      "  Downloading websockets-15.0.1-cp312-cp312-macosx_11_0_arm64.whl.metadata (6.8 kB)\n",
      "Collecting pyunormalize>=15.0.0 (from web3)\n",
      "  Downloading pyunormalize-16.0.0-py3-none-any.whl.metadata (4.0 kB)\n",
      "Collecting python-dotenv (from dotenv)\n",
      "  Using cached python_dotenv-1.1.1-py3-none-any.whl.metadata (24 kB)\n",
      "Requirement already satisfied: numpy>=1.26.0 in /Users/kruyscollins/Documents/Kruys Collins Codes/ProblemSolving/.venv/lib/python3.12/site-packages (from pandas) (2.3.2)\n",
      "Requirement already satisfied: python-dateutil>=2.8.2 in /Users/kruyscollins/Documents/Kruys Collins Codes/ProblemSolving/.venv/lib/python3.12/site-packages (from pandas) (2.9.0.post0)\n",
      "Requirement already satisfied: pytz>=2020.1 in /Users/kruyscollins/Documents/Kruys Collins Codes/ProblemSolving/.venv/lib/python3.12/site-packages (from pandas) (2025.2)\n",
      "Requirement already satisfied: tzdata>=2022.7 in /Users/kruyscollins/Documents/Kruys Collins Codes/ProblemSolving/.venv/lib/python3.12/site-packages (from pandas) (2025.2)\n",
      "Collecting contourpy>=1.0.1 (from matplotlib)\n",
      "  Using cached contourpy-1.3.3-cp312-cp312-macosx_11_0_arm64.whl.metadata (5.5 kB)\n",
      "Collecting cycler>=0.10 (from matplotlib)\n",
      "  Using cached cycler-0.12.1-py3-none-any.whl.metadata (3.8 kB)\n",
      "Collecting fonttools>=4.22.0 (from matplotlib)\n",
      "  Using cached fonttools-4.59.1-cp312-cp312-macosx_10_13_universal2.whl.metadata (108 kB)\n",
      "Collecting kiwisolver>=1.3.1 (from matplotlib)\n",
      "  Using cached kiwisolver-1.4.9-cp312-cp312-macosx_11_0_arm64.whl.metadata (6.3 kB)\n",
      "Requirement already satisfied: packaging>=20.0 in /Users/kruyscollins/Documents/Kruys Collins Codes/ProblemSolving/.venv/lib/python3.12/site-packages (from matplotlib) (25.0)\n",
      "Collecting pillow>=8 (from matplotlib)\n",
      "  Using cached pillow-11.3.0-cp312-cp312-macosx_11_0_arm64.whl.metadata (9.0 kB)\n",
      "Collecting pyparsing>=2.3.1 (from matplotlib)\n",
      "  Using cached pyparsing-3.2.3-py3-none-any.whl.metadata (5.0 kB)\n",
      "Collecting aiohappyeyeballs>=2.5.0 (from aiohttp>=3.7.4.post0->web3)\n",
      "  Downloading aiohappyeyeballs-2.6.1-py3-none-any.whl.metadata (5.9 kB)\n",
      "Collecting aiosignal>=1.4.0 (from aiohttp>=3.7.4.post0->web3)\n",
      "  Downloading aiosignal-1.4.0-py3-none-any.whl.metadata (3.7 kB)\n",
      "Requirement already satisfied: attrs>=17.3.0 in /Users/kruyscollins/Documents/Kruys Collins Codes/ProblemSolving/.venv/lib/python3.12/site-packages (from aiohttp>=3.7.4.post0->web3) (25.3.0)\n",
      "Collecting frozenlist>=1.1.1 (from aiohttp>=3.7.4.post0->web3)\n",
      "  Downloading frozenlist-1.7.0-cp312-cp312-macosx_11_0_arm64.whl.metadata (18 kB)\n",
      "Collecting multidict<7.0,>=4.5 (from aiohttp>=3.7.4.post0->web3)\n",
      "  Downloading multidict-6.6.4-cp312-cp312-macosx_11_0_arm64.whl.metadata (5.3 kB)\n",
      "Collecting propcache>=0.2.0 (from aiohttp>=3.7.4.post0->web3)\n",
      "  Downloading propcache-0.3.2-cp312-cp312-macosx_11_0_arm64.whl.metadata (12 kB)\n",
      "Collecting yarl<2.0,>=1.17.0 (from aiohttp>=3.7.4.post0->web3)\n",
      "  Downloading yarl-1.20.1-cp312-cp312-macosx_11_0_arm64.whl.metadata (73 kB)\n",
      "Requirement already satisfied: idna>=2.0 in /Users/kruyscollins/Documents/Kruys Collins Codes/ProblemSolving/.venv/lib/python3.12/site-packages (from yarl<2.0,>=1.17.0->aiohttp>=3.7.4.post0->web3) (3.10)\n",
      "Collecting parsimonious<0.11.0,>=0.10.0 (from eth-abi>=5.0.1->web3)\n",
      "  Downloading parsimonious-0.10.0-py3-none-any.whl.metadata (25 kB)\n",
      "Collecting regex>=2022.3.15 (from parsimonious<0.11.0,>=0.10.0->eth-abi>=5.0.1->web3)\n",
      "  Downloading regex-2025.7.34-cp312-cp312-macosx_11_0_arm64.whl.metadata (40 kB)\n",
      "Collecting bitarray>=2.4.0 (from eth-account>=0.13.6->web3)\n",
      "  Downloading bitarray-3.7.0-cp312-cp312-macosx_11_0_arm64.whl.metadata (35 kB)\n",
      "Collecting eth-keyfile<0.9.0,>=0.7.0 (from eth-account>=0.13.6->web3)\n",
      "  Downloading eth_keyfile-0.8.1-py3-none-any.whl.metadata (8.5 kB)\n",
      "Collecting eth-keys>=0.4.0 (from eth-account>=0.13.6->web3)\n",
      "  Downloading eth_keys-0.7.0-py3-none-any.whl.metadata (13 kB)\n",
      "Collecting eth-rlp>=2.1.0 (from eth-account>=0.13.6->web3)\n",
      "  Downloading eth_rlp-2.2.0-py3-none-any.whl.metadata (3.3 kB)\n",
      "Collecting rlp>=1.0.0 (from eth-account>=0.13.6->web3)\n",
      "  Downloading rlp-4.1.0-py3-none-any.whl.metadata (3.2 kB)\n",
      "Collecting ckzg>=2.0.0 (from eth-account>=0.13.6->web3)\n",
      "  Downloading ckzg-2.1.1-cp312-cp312-macosx_11_0_arm64.whl.metadata (887 bytes)\n",
      "Collecting pycryptodome<4,>=3.6.6 (from eth-keyfile<0.9.0,>=0.7.0->eth-account>=0.13.6->web3)\n",
      "  Downloading pycryptodome-3.23.0-cp37-abi3-macosx_10_9_universal2.whl.metadata (3.4 kB)\n",
      "Collecting cytoolz>=0.10.1 (from eth-utils>=5.0.0->web3)\n",
      "  Downloading cytoolz-1.0.1-cp312-cp312-macosx_11_0_arm64.whl.metadata (4.6 kB)\n",
      "Collecting annotated-types>=0.6.0 (from pydantic>=2.4.0->web3)\n",
      "  Downloading annotated_types-0.7.0-py3-none-any.whl.metadata (15 kB)\n",
      "Collecting pydantic-core==2.33.2 (from pydantic>=2.4.0->web3)\n",
      "  Downloading pydantic_core-2.33.2-cp312-cp312-macosx_11_0_arm64.whl.metadata (6.8 kB)\n",
      "Collecting typing-inspection>=0.4.0 (from pydantic>=2.4.0->web3)\n",
      "  Downloading typing_inspection-0.4.1-py3-none-any.whl.metadata (2.6 kB)\n",
      "Collecting toolz>=0.8.0 (from cytoolz>=0.10.1->eth-utils>=5.0.0->web3)\n",
      "  Downloading toolz-1.0.0-py3-none-any.whl.metadata (5.1 kB)\n",
      "Requirement already satisfied: six>=1.5 in /Users/kruyscollins/Documents/Kruys Collins Codes/ProblemSolving/.venv/lib/python3.12/site-packages (from python-dateutil>=2.8.2->pandas) (1.17.0)\n",
      "Requirement already satisfied: charset_normalizer<4,>=2 in /Users/kruyscollins/Documents/Kruys Collins Codes/ProblemSolving/.venv/lib/python3.12/site-packages (from requests>=2.23.0->web3) (3.4.3)\n",
      "Requirement already satisfied: urllib3<3,>=1.21.1 in /Users/kruyscollins/Documents/Kruys Collins Codes/ProblemSolving/.venv/lib/python3.12/site-packages (from requests>=2.23.0->web3) (2.5.0)\n",
      "Requirement already satisfied: certifi>=2017.4.17 in /Users/kruyscollins/Documents/Kruys Collins Codes/ProblemSolving/.venv/lib/python3.12/site-packages (from requests>=2.23.0->web3) (2025.8.3)\n",
      "Downloading web3-7.13.0-py3-none-any.whl (1.4 MB)\n",
      "\u001b[2K   \u001b[90m━━━━━━━━━━━━━━━━━━━━━━━━━━━━━━━━━━━━━━━━\u001b[0m \u001b[32m1.4/1.4 MB\u001b[0m \u001b[31m3.3 MB/s\u001b[0m  \u001b[33m0:00:00\u001b[0m eta \u001b[36m0:00:01\u001b[0m\n",
      "\u001b[?25hDownloading websockets-15.0.1-cp312-cp312-macosx_11_0_arm64.whl (173 kB)\n",
      "Downloading dotenv-0.9.9-py2.py3-none-any.whl (1.9 kB)\n",
      "Using cached matplotlib-3.10.5-cp312-cp312-macosx_11_0_arm64.whl (8.1 MB)\n",
      "Downloading aiohttp-3.12.15-cp312-cp312-macosx_11_0_arm64.whl (469 kB)\n",
      "Downloading multidict-6.6.4-cp312-cp312-macosx_11_0_arm64.whl (43 kB)\n",
      "Downloading yarl-1.20.1-cp312-cp312-macosx_11_0_arm64.whl (89 kB)\n",
      "Downloading aiohappyeyeballs-2.6.1-py3-none-any.whl (15 kB)\n",
      "Downloading aiosignal-1.4.0-py3-none-any.whl (7.5 kB)\n",
      "Using cached contourpy-1.3.3-cp312-cp312-macosx_11_0_arm64.whl (273 kB)\n",
      "Using cached cycler-0.12.1-py3-none-any.whl (8.3 kB)\n",
      "Downloading eth_abi-5.2.0-py3-none-any.whl (28 kB)\n",
      "Downloading parsimonious-0.10.0-py3-none-any.whl (48 kB)\n",
      "Downloading eth_account-0.13.7-py3-none-any.whl (587 kB)\n",
      "\u001b[2K   \u001b[90m━━━━━━━━━━━━━━━━━━━━━━━━━━━━━━━━━━━━━━━━\u001b[0m \u001b[32m587.5/587.5 kB\u001b[0m \u001b[31m4.0 MB/s\u001b[0m  \u001b[33m0:00:00\u001b[0m\n",
      "\u001b[?25hDownloading eth_keyfile-0.8.1-py3-none-any.whl (7.5 kB)\n",
      "Downloading pycryptodome-3.23.0-cp37-abi3-macosx_10_9_universal2.whl (2.5 MB)\n",
      "\u001b[2K   \u001b[90m━━━━━━━━━━━━━━━━━━━━━━━━━━━━━━━━━━━━━━━━\u001b[0m \u001b[32m2.5/2.5 MB\u001b[0m \u001b[31m5.5 MB/s\u001b[0m  \u001b[33m0:00:00\u001b[0m eta \u001b[36m0:00:01\u001b[0m\n",
      "\u001b[?25hDownloading bitarray-3.7.0-cp312-cp312-macosx_11_0_arm64.whl (143 kB)\n",
      "Downloading ckzg-2.1.1-cp312-cp312-macosx_11_0_arm64.whl (100 kB)\n",
      "Downloading eth_hash-0.7.1-py3-none-any.whl (8.0 kB)\n",
      "Downloading eth_keys-0.7.0-py3-none-any.whl (20 kB)\n",
      "Downloading eth_rlp-2.2.0-py3-none-any.whl (4.4 kB)\n",
      "Downloading eth_typing-5.2.1-py3-none-any.whl (19 kB)\n",
      "Downloading eth_utils-5.3.0-py3-none-any.whl (102 kB)\n",
      "Downloading pydantic-2.11.7-py3-none-any.whl (444 kB)\n",
      "Downloading pydantic_core-2.33.2-cp312-cp312-macosx_11_0_arm64.whl (1.8 MB)\n",
      "\u001b[2K   \u001b[90m━━━━━━━━━━━━━━━━━━━━━━━━━━━━━━━━━━━━━━━━\u001b[0m \u001b[32m1.8/1.8 MB\u001b[0m \u001b[31m3.1 MB/s\u001b[0m  \u001b[33m0:00:00\u001b[0m eta \u001b[36m0:00:01\u001b[0m\n",
      "\u001b[?25hDownloading annotated_types-0.7.0-py3-none-any.whl (13 kB)\n",
      "Downloading cytoolz-1.0.1-cp312-cp312-macosx_11_0_arm64.whl (390 kB)\n",
      "Using cached fonttools-4.59.1-cp312-cp312-macosx_10_13_universal2.whl (2.8 MB)\n",
      "Downloading frozenlist-1.7.0-cp312-cp312-macosx_11_0_arm64.whl (46 kB)\n",
      "Downloading hexbytes-1.3.1-py3-none-any.whl (5.1 kB)\n",
      "Using cached kiwisolver-1.4.9-cp312-cp312-macosx_11_0_arm64.whl (64 kB)\n",
      "Using cached pillow-11.3.0-cp312-cp312-macosx_11_0_arm64.whl (4.7 MB)\n",
      "Downloading propcache-0.3.2-cp312-cp312-macosx_11_0_arm64.whl (43 kB)\n",
      "Using cached pyparsing-3.2.3-py3-none-any.whl (111 kB)\n",
      "Downloading pyunormalize-16.0.0-py3-none-any.whl (49 kB)\n",
      "Downloading regex-2025.7.34-cp312-cp312-macosx_11_0_arm64.whl (286 kB)\n",
      "Downloading rlp-4.1.0-py3-none-any.whl (19 kB)\n",
      "Downloading toolz-1.0.0-py3-none-any.whl (56 kB)\n",
      "Downloading types_requests-2.32.4.20250809-py3-none-any.whl (20 kB)\n",
      "Downloading typing_inspection-0.4.1-py3-none-any.whl (14 kB)\n",
      "Using cached python_dotenv-1.1.1-py3-none-any.whl (20 kB)\n",
      "Installing collected packages: ckzg, bitarray, websockets, typing-inspection, types-requests, toolz, regex, pyunormalize, python-dotenv, pyparsing, pydantic-core, pycryptodome, propcache, pillow, multidict, kiwisolver, hexbytes, frozenlist, fonttools, eth-typing, eth-hash, cycler, contourpy, annotated-types, aiohappyeyeballs, yarl, pydantic, parsimonious, matplotlib, dotenv, cytoolz, aiosignal, eth-utils, aiohttp, rlp, eth-keys, eth-abi, eth-rlp, eth-keyfile, eth-account, web3\n",
      "\u001b[2K   \u001b[90m━━━━━━━━━━━━━━━━━━━━━━━━━━━━━━━━━━━━━━━━\u001b[0m \u001b[32m41/41\u001b[0m [web3]0m [web3]0m [eth-account]]]\n",
      "\u001b[1A\u001b[2KSuccessfully installed aiohappyeyeballs-2.6.1 aiohttp-3.12.15 aiosignal-1.4.0 annotated-types-0.7.0 bitarray-3.7.0 ckzg-2.1.1 contourpy-1.3.3 cycler-0.12.1 cytoolz-1.0.1 dotenv-0.9.9 eth-abi-5.2.0 eth-account-0.13.7 eth-hash-0.7.1 eth-keyfile-0.8.1 eth-keys-0.7.0 eth-rlp-2.2.0 eth-typing-5.2.1 eth-utils-5.3.0 fonttools-4.59.1 frozenlist-1.7.0 hexbytes-1.3.1 kiwisolver-1.4.9 matplotlib-3.10.5 multidict-6.6.4 parsimonious-0.10.0 pillow-11.3.0 propcache-0.3.2 pycryptodome-3.23.0 pydantic-2.11.7 pydantic-core-2.33.2 pyparsing-3.2.3 python-dotenv-1.1.1 pyunormalize-16.0.0 regex-2025.7.34 rlp-4.1.0 toolz-1.0.0 types-requests-2.32.4.20250809 typing-inspection-0.4.1 web3-7.13.0 websockets-15.0.1 yarl-1.20.1\n"
     ]
    }
   ],
   "source": [
    "! pip install web3 dotenv pandas matplotlib"
   ]
  },
  {
   "cell_type": "markdown",
   "id": "e079c995",
   "metadata": {},
   "source": []
  },
  {
   "cell_type": "code",
   "execution_count": 14,
   "id": "8819d480",
   "metadata": {},
   "outputs": [
    {
     "name": "stdout",
     "output_type": "stream",
     "text": [
      "Gateway is: https://hoodi.infura.io/v3/46ac597ab73d443295115fbccc4e038f\n"
     ]
    }
   ],
   "source": [
    "# Importing the Web3 object from web3.py\n",
    "# Loading the Gateway environment variable from .env file\n",
    "# Remember that the Gateway we created has an API key in it (unique identifier for the API caller)\n",
    "\n",
    "from web3 import Web3\n",
    "import pandas as pd\n",
    "from dotenv import load_dotenv\n",
    "import os\n",
    "\n",
    "# Loading environment variables from .env file\n",
    "load_dotenv()\n",
    "GATEWAY = os.getenv(\"GATEWAY_URL_ENDPOINT\")\n",
    "\n",
    "# Print Gateway to test if it loaded\n",
    "print(f\"Gateway is: {GATEWAY}\")\n"
   ]
  },
  {
   "cell_type": "markdown",
   "id": "06cca378",
   "metadata": {},
   "source": [
    "### Connecting to the Blockchain"
   ]
  },
  {
   "cell_type": "code",
   "execution_count": 15,
   "id": "ab326196",
   "metadata": {},
   "outputs": [
    {
     "name": "stdout",
     "output_type": "stream",
     "text": [
      "Is the connection successful?: True\n"
     ]
    }
   ],
   "source": [
    "w3 = Web3(Web3.HTTPProvider(GATEWAY))\n",
    "print(f'Is the connection successful?: {w3.is_connected()}') # Should return True\n"
   ]
  },
  {
   "cell_type": "markdown",
   "id": "8fc61060",
   "metadata": {},
   "source": [
    "### Turn Addresses to Checksum Addresses\n",
    "A checksum address is a way of formatting a standard Ethereum address to help prevent typos. It adds an extra layer of error-checking through capitalization."
   ]
  },
  {
   "cell_type": "code",
   "execution_count": 16,
   "id": "0034e63e",
   "metadata": {},
   "outputs": [],
   "source": [
    "def turn_to_checksum(address: str) -> str:\n",
    "    \"\"\"Convert an Ethereum address to its checksum format\"\"\"\n",
    "    if not Web3.is_checksum_address(address):  # check if already checksum\n",
    "        return Web3.to_checksum_address(address)  # convert to checksum\n",
    "    return address\n",
    "\n",
    "\n",
    "\n",
    "ACCOUNT_ADDRESS_RAW = \"0x5B38Da6a701c568545dCfcB03FcB875f56beddC4\"\n",
    "ACCOUNT_ADDRESS = turn_to_checksum(ACCOUNT_ADDRESS_RAW)\n"
   ]
  },
  {
   "cell_type": "markdown",
   "id": "fd89c694",
   "metadata": {},
   "source": [
    "### Reading Basic Transaction Data"
   ]
  },
  {
   "cell_type": "code",
   "execution_count": 17,
   "id": "2a76c732",
   "metadata": {},
   "outputs": [
    {
     "data": {
      "text/plain": [
       "2"
      ]
     },
     "execution_count": 17,
     "metadata": {},
     "output_type": "execute_result"
    }
   ],
   "source": [
    "# Get number of transactions for a given address\n",
    "def get_transaction_count(address: str) -> int:\n",
    "    return w3.eth.get_transaction_count(address)  # use the get_transaction_count method and pass through the address\n",
    "\n",
    "get_transaction_count(ACCOUNT_ADDRESS)"
   ]
  },
  {
   "cell_type": "code",
   "execution_count": 21,
   "id": "29ff7b43",
   "metadata": {},
   "outputs": [
    {
     "name": "stdout",
     "output_type": "stream",
     "text": [
      "An error occurred: Transaction with hash: '0xfc5513fa1959ea89a0c3c6aaee01c0b804d49a6bff06fabeacb9e724828b5836' not found.\n"
     ]
    }
   ],
   "source": [
    "# Fetch details for a transaction using transaction hash\n",
    "\n",
    "tx_hash = \"0xfc5513fa1959ea89a0c3c6aaee01c0b804d49a6bff06fabeacb9e724828b5836\"\n",
    "\n",
    "try:\n",
    "    transaction = w3.eth.get_transaction(tx_hash)\n",
    "    print(f\"Transaction Details: {transaction}\")\n",
    "except Exception as e:\n",
    "    print(f\"An error occurred: {e}\")\n"
   ]
  },
  {
   "cell_type": "code",
   "execution_count": null,
   "id": "cdfb7c4d",
   "metadata": {},
   "outputs": [],
   "source": [
    "print(\"From:\", transaction[\"from\"])  # Sender address\n",
    "print(\"To:\", transaction[\"to\"])  # Recipient address\n",
    "print(\"Value (ETH):\", w3.from_wei(transaction[\"value\"], \"ether\"))  # Transaction value in ETH\n",
    "print(\"Gas Used:\", transaction[\"gas\"])  # Gas used for the transaction\n"
   ]
  },
  {
   "cell_type": "code",
   "execution_count": 22,
   "id": "da537933",
   "metadata": {},
   "outputs": [],
   "source": [
    "def get_tx_details(tx_hash: str) -> dict:\n",
    "    \"\"\"Fetches transaction details for a given transaction hash.\"\"\"\n",
    "    try:\n",
    "        transaction = w3.eth.get_transaction(tx_hash)\n",
    "    except Exception as e:\n",
    "        print(f\"Error fetching transaction details: {e}\")\n",
    "        return {}\n",
    "\n",
    "    return {\n",
    "        \"from\": transaction[\"from\"],\n",
    "        \"to\": transaction[\"to\"],\n",
    "        \"value (ETH)\": w3.from_wei(transaction[\"value\"], \"ether\"),\n",
    "        \"gas used\": transaction[\"gas\"]\n",
    "    }\n"
   ]
  },
  {
   "cell_type": "code",
   "execution_count": null,
   "id": "a08636a6",
   "metadata": {},
   "outputs": [
    {
     "name": "stdout",
     "output_type": "stream",
     "text": [
      "Error fetching transaction details: Transaction with hash: '0xfc5513fa1959ea89a0c3c6aaee01c0b804d49a6bff06fabeacb9e724828b5836' not found.\n"
     ]
    },
    {
     "data": {
      "text/plain": [
       "{}"
      ]
     },
     "execution_count": 23,
     "metadata": {},
     "output_type": "execute_result"
    }
   ],
   "source": [
    "tx_hash = \"0xfc5513fa1959ea89a0c3c6aaee01c0b804d49a6bff06fabeacb9e724828b5836\"\n",
    "get_tx_details(tx_hash)"
   ]
  },
  {
   "cell_type": "code",
   "execution_count": null,
   "id": "ae43c252",
   "metadata": {},
   "outputs": [],
   "source": []
  }
 ],
 "metadata": {
  "kernelspec": {
   "display_name": ".venv",
   "language": "python",
   "name": "python3"
  },
  "language_info": {
   "codemirror_mode": {
    "name": "ipython",
    "version": 3
   },
   "file_extension": ".py",
   "mimetype": "text/x-python",
   "name": "python",
   "nbconvert_exporter": "python",
   "pygments_lexer": "ipython3",
   "version": "3.12.11"
  }
 },
 "nbformat": 4,
 "nbformat_minor": 5
}
