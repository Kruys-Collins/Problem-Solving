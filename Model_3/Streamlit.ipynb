{
 "cells": [
  {
   "cell_type": "markdown",
   "id": "881f55c3",
   "metadata": {},
   "source": [
    "### Building StreamLit App\n",
    "Streamlit is a python library to turn scripts to web applications"
   ]
  },
  {
   "cell_type": "code",
   "execution_count": 1,
   "id": "dde2e9ce",
   "metadata": {},
   "outputs": [
    {
     "ename": "ModuleNotFoundError",
     "evalue": "No module named 'streamlit'",
     "output_type": "error",
     "traceback": [
      "\u001b[31m---------------------------------------------------------------------------\u001b[39m",
      "\u001b[31mModuleNotFoundError\u001b[39m                       Traceback (most recent call last)",
      "\u001b[36mCell\u001b[39m\u001b[36m \u001b[39m\u001b[32mIn[1]\u001b[39m\u001b[32m, line 3\u001b[39m\n\u001b[32m      1\u001b[39m \u001b[38;5;66;03m# pip install streamlit\u001b[39;00m\n\u001b[32m----> \u001b[39m\u001b[32m3\u001b[39m \u001b[38;5;28;01mimport\u001b[39;00m\u001b[38;5;250m \u001b[39m\u001b[34;01mstreamlit\u001b[39;00m\u001b[38;5;250m \u001b[39m\u001b[38;5;28;01mas\u001b[39;00m\u001b[38;5;250m \u001b[39m\u001b[34;01mst\u001b[39;00m\n\u001b[32m      4\u001b[39m \u001b[38;5;28;01mimport\u001b[39;00m\u001b[38;5;250m \u001b[39m\u001b[34;01mpandas\u001b[39;00m\u001b[38;5;250m \u001b[39m\u001b[38;5;28;01mas\u001b[39;00m\u001b[38;5;250m \u001b[39m\u001b[34;01mpd\u001b[39;00m\n\u001b[32m      5\u001b[39m \u001b[38;5;28;01mimport\u001b[39;00m\u001b[38;5;250m \u001b[39m\u001b[34;01mnumpy\u001b[39;00m\u001b[38;5;250m \u001b[39m\u001b[38;5;28;01mas\u001b[39;00m\u001b[38;5;250m \u001b[39m\u001b[34;01mnp\u001b[39;00m\n",
      "\u001b[31mModuleNotFoundError\u001b[39m: No module named 'streamlit'"
     ]
    }
   ],
   "source": [
    "# pip install streamlit\n",
    "\n",
    "import streamlit as st\n",
    "import pandas as pd\n",
    "import numpy as np\n",
    "     "
   ]
  },
  {
   "cell_type": "markdown",
   "id": "26e758f8",
   "metadata": {},
   "source": [
    "### How to Decode an Event?\n",
    "\n",
    "We can directly decode an event on Etherscan by parsing event with correct data types.\n",
    "\n",
    "https://arbiscan.io/address/0x24057FA1c968dfA1a285D2cB4CE1e32001dB8C43#events\n",
    "\n",
    "Dune also has a few options for decoding events\n",
    "\n",
    "Each EVM blockchain has a raw logs table (blockchain.logs)\n",
    "\n",
    "Users can request Dune decode a smart contract\n",
    "\n",
    "Most major projects and protocols will be decoded\n",
    "\n",
    "Able to decode a raw log in SQL, but don’t recommend unless necessary (complex)\n",
    "\n",
    "Documentation:\n",
    "\n",
    "https://docs.dune.com/data-catalog/evm/ethereum/decoded/event-logs\n",
    "\n",
    "https://docs.dune.com/data-catalog/evm/ethereum/decoded/overview\n",
    "\n",
    "https://docs.dune.com/query-engine/Functions-and-operators/evm-decoding-functions\n",
    "\n",
    "Decoding Tool: https://www.parsed.xyz/"
   ]
  }
 ],
 "metadata": {
  "kernelspec": {
   "display_name": ".venv",
   "language": "python",
   "name": "python3"
  },
  "language_info": {
   "codemirror_mode": {
    "name": "ipython",
    "version": 3
   },
   "file_extension": ".py",
   "mimetype": "text/x-python",
   "name": "python",
   "nbconvert_exporter": "python",
   "pygments_lexer": "ipython3",
   "version": "3.12.11"
  }
 },
 "nbformat": 4,
 "nbformat_minor": 5
}
