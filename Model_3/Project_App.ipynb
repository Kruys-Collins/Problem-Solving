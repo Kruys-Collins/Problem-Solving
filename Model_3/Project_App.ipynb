{
 "cells": [
  {
   "cell_type": "markdown",
   "id": "963ea39c",
   "metadata": {},
   "source": [
    "7. Treasury Tracker (Public Companies in Crypto)\n",
    "\n",
    "What: Company BTC/ETH holdings and PnL.\n",
    "\n",
    "Data: CoinGecko \"Companies Treasury\" endpoints.\n",
    "\n",
    "Stretch: FX conversion + portfolio what-if.."
   ]
  }
 ],
 "metadata": {
  "language_info": {
   "name": "python"
  }
 },
 "nbformat": 4,
 "nbformat_minor": 5
}
